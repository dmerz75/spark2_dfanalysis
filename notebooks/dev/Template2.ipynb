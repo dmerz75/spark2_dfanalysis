{
 "cells": [
  {
   "cell_type": "code",
   "execution_count": 1,
   "metadata": {
    "collapsed": true
   },
   "outputs": [],
   "source": [
    "# My Standard Spark Session!\n",
    "\n",
    "# Python libraries:\n",
    "import os\n",
    "import sys\n",
    "import re\n",
    "from dateutil import parser\n",
    "# import datetime\n",
    "from datetime import datetime\n",
    "from datetime import date\n",
    "import builtins\n",
    "import json\n",
    "import functools\n",
    "import operator\n",
    "from itertools import product\n",
    "\n",
    "# Numpy & Pandas!\n",
    "import numpy as np\n",
    "import pandas as pd\n",
    "pd.options.display.float_format = '{:20,.2f}'.format\n",
    "pd.options.display.max_columns = None\n",
    "\n",
    "# Spark!\n",
    "from pyspark import SparkContext\n",
    "from pyspark.sql.functions import *\n",
    "from pyspark.sql.types import *\n",
    "from pyspark.sql.window import *\n",
    "from pyspark.sql import SparkSession, Row\n",
    "\n",
    "\n",
    "spark = SparkSession.builder.appName(\"myapp\").getOrCreate()\n",
    "\n",
    "#     spark = SparkSession.builder.master(\"yarn\")\\\n",
    "#     .config(\"spark.executor.instances\", \"32\")\\\n",
    "#     .config(\"spark.executor.cores\", \"4\")\\\n",
    "#     .config(\"spark.executor.memory\", \"4G\")\\\n",
    "#     .config(\"spark.driver.memory\", \"4G\")\\\n",
    "#     .config(\"spark.executor.memoryOverhead\",\"4G\")\\\n",
    "#     .config(\"spark.yarn.queue\",\"Medium\")\\\n",
    "#     .appName(\"myapp\")\\\n",
    "#     .getOrCreate()\n",
    "\n",
    "sc = spark.sparkContext\n",
    "spark.conf.set(\"spark.sql.sources.partitionColumnTypeInference.enabled\", \"false\")\n",
    "spark.conf.set(\"spark.debug.maxToStringFields\",\"true\")"
   ]
  },
  {
   "cell_type": "code",
   "execution_count": 2,
   "metadata": {},
   "outputs": [
    {
     "name": "stdout",
     "output_type": "stream",
     "text": [
      " Python Version:  3.6.1 |Anaconda 4.4.0 (64-bit)| (default, May 11 2017, 13:25:24) [MSC v.1900 64 bit (AMD64)]\n",
      "    Python Path:  C:\\Users\\d810216\\AppData\\Local\\conda\\conda\\envs\\my_root\n",
      " My Python Libs:  C:\\Users\\d810216/.myconfigs\n",
      "   My Spark Dir:  C:\\Users\\d810216/spark2_dfanalysis\n",
      "   My Spark Ctx:  <pyspark.sql.session.SparkSession object at 0x0000022471C02400>\n"
     ]
    }
   ],
   "source": [
    "%load_ext autoreload\n",
    "%autoreload 2\n",
    "# The autoreload extension is already loaded. To reload it, use:\n",
    "#  %reload_ext autoreload\n",
    "\n",
    "\n",
    "# mylib:\n",
    "my_library = os.path.expanduser('~/.myconfigs')\n",
    "my_spark = os.path.expanduser('~/spark2_dfanalysis')\n",
    "sys.path.append(my_library)\n",
    "sys.path.append(my_spark)\n",
    "\n",
    "\n",
    "from shared.app_context import *\n",
    "from builder.DataFrameBuild import *\n",
    "\n",
    "ctx = ApplicationContext(\"Dev-Job\")\n",
    "\n",
    "DFB = DataFrameBuild(ctx.spark)\n",
    "\n",
    "print(\"%16s  %s\" % (\"Python Version:\",sys.version))\n",
    "print(\"%16s  %s\" % (\"Python Path:\",os.path.dirname(sys.executable)))\n",
    "print(\"%16s  %s\" % (\"My Python Libs:\",my_library))\n",
    "print(\"%16s  %s\" % (\"My Spark Dir:\",my_spark))\n",
    "print(\"%16s  %s\" % (\"My Spark Ctx:\",ctx.spark))\n",
    "# print(ctx.spark)\n",
    "# print(os.listdir(my_spark))\n",
    "# print(sys.path)\n",
    "# print(\"\\n\")"
   ]
  },
  {
   "cell_type": "code",
   "execution_count": 9,
   "metadata": {},
   "outputs": [
    {
     "data": {
      "text/html": [
       "<div>\n",
       "<style scoped>\n",
       "    .dataframe tbody tr th:only-of-type {\n",
       "        vertical-align: middle;\n",
       "    }\n",
       "\n",
       "    .dataframe tbody tr th {\n",
       "        vertical-align: top;\n",
       "    }\n",
       "\n",
       "    .dataframe thead th {\n",
       "        text-align: right;\n",
       "    }\n",
       "</style>\n",
       "<table border=\"1\" class=\"dataframe\">\n",
       "  <thead>\n",
       "    <tr style=\"text-align: right;\">\n",
       "      <th></th>\n",
       "      <th>index</th>\n",
       "      <th>name</th>\n",
       "      <th>month</th>\n",
       "      <th>year</th>\n",
       "      <th>age</th>\n",
       "      <th>net_worth</th>\n",
       "    </tr>\n",
       "  </thead>\n",
       "  <tbody>\n",
       "    <tr>\n",
       "      <th>0</th>\n",
       "      <td>0</td>\n",
       "      <td>connor</td>\n",
       "      <td>Feburary</td>\n",
       "      <td>1923</td>\n",
       "      <td>96</td>\n",
       "      <td>32,974.81</td>\n",
       "    </tr>\n",
       "    <tr>\n",
       "      <th>1</th>\n",
       "      <td>1</td>\n",
       "      <td>elizabeth</td>\n",
       "      <td>Feburary</td>\n",
       "      <td>1943</td>\n",
       "      <td>76</td>\n",
       "      <td>4,068.52</td>\n",
       "    </tr>\n",
       "    <tr>\n",
       "      <th>2</th>\n",
       "      <td>2</td>\n",
       "      <td>katie</td>\n",
       "      <td>October</td>\n",
       "      <td>1988</td>\n",
       "      <td>31</td>\n",
       "      <td>13,206.11</td>\n",
       "    </tr>\n",
       "    <tr>\n",
       "      <th>3</th>\n",
       "      <td>3</td>\n",
       "      <td>alyssa</td>\n",
       "      <td>May</td>\n",
       "      <td>1900</td>\n",
       "      <td>119</td>\n",
       "      <td>89,850.34</td>\n",
       "    </tr>\n",
       "  </tbody>\n",
       "</table>\n",
       "</div>"
      ],
      "text/plain": [
       "   index       name     month  year  age            net_worth\n",
       "0      0     connor  Feburary  1923   96            32,974.81\n",
       "1      1  elizabeth  Feburary  1943   76             4,068.52\n",
       "2      2      katie   October  1988   31            13,206.11\n",
       "3      3     alyssa       May  1900  119            89,850.34"
      ]
     },
     "execution_count": 9,
     "metadata": {},
     "output_type": "execute_result"
    }
   ],
   "source": [
    "# 6 columns: strings, ints, float\n",
    "import random\n",
    "\n",
    "num = 100000\n",
    "\n",
    "lst_months = ['January','Feburary','March','April','May','June',\n",
    "              'July','August','September','October','November','December']\n",
    "\n",
    "indices = [int(x) for x in np.linspace(0,num-1,num)]\n",
    "# print(indices)\n",
    "\n",
    "years = [random.randint(1900,2019) for x in range(num)]\n",
    "# print(years)\n",
    "\n",
    "ages = [(2019 - x) for x in years]\n",
    "# print(ages)\n",
    "\n",
    "months = [random.choice(lst_months) for x in range(num)]\n",
    "# print(months)\n",
    "\n",
    "worth = [random.random() * 100000 for x in range(num)]\n",
    "# print(worth)\n",
    "\n",
    "lst_names = ['sarah','bill','steve','mary','alyssa','brian','elizabeth','josh','ryan','katie','connor',\n",
    "             'erica','lisa','doug','stacie','chris','gary','tom','ellen','paula']\n",
    "names = [random.choice(lst_names) for x in range(num)]\n",
    "\n",
    "\n",
    "df = DFB.arrays_to_dataframe([indices,names,months,years,ages,worth],\n",
    "                             ['index','name','month','year','age','net_worth'])\n",
    "\n",
    "\n",
    "df.limit(4).toPandas()"
   ]
  },
  {
   "cell_type": "markdown",
   "metadata": {},
   "source": [
    "# Working Example:"
   ]
  },
  {
   "cell_type": "markdown",
   "metadata": {},
   "source": [
    "## Let's categorize each sale as low, medium, or high\n",
    "- low: <= 20,000\n",
    "- medium: 20,000 < x < 34,000\n",
    "- high: 34,000 <= 100,000"
   ]
  },
  {
   "cell_type": "markdown",
   "metadata": {},
   "source": [
    "df.withColumn(\""
   ]
  }
 ],
 "metadata": {
  "kernelspec": {
   "display_name": "Python 3",
   "language": "python",
   "name": "python3"
  },
  "language_info": {
   "codemirror_mode": {
    "name": "ipython",
    "version": 3
   },
   "file_extension": ".py",
   "mimetype": "text/x-python",
   "name": "python",
   "nbconvert_exporter": "python",
   "pygments_lexer": "ipython3",
   "version": "3.6.1"
  }
 },
 "nbformat": 4,
 "nbformat_minor": 2
}
