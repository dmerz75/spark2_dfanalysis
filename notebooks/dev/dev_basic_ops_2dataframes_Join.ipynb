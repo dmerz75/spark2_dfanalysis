{
 "cells": [
  {
   "cell_type": "markdown",
   "metadata": {},
   "source": [
    "# join_2dataframes"
   ]
  },
  {
   "cell_type": "code",
   "execution_count": 1,
   "metadata": {
    "collapsed": true
   },
   "outputs": [],
   "source": [
    "%load_ext autoreload\n",
    "%autoreload 2\n",
    "\n",
    "# The autoreload extension is already loaded. To reload it, use:\n",
    "#  %reload_ext autoreload"
   ]
  },
  {
   "cell_type": "code",
   "execution_count": 2,
   "metadata": {
    "collapsed": true
   },
   "outputs": [],
   "source": [
    "import os\n",
    "import sys\n",
    "import numpy as np\n",
    "import pandas as pd\n",
    "\n",
    "pd.options.display.float_format = '{:8,.2f}'.format"
   ]
  },
  {
   "cell_type": "code",
   "execution_count": 3,
   "metadata": {
    "collapsed": true
   },
   "outputs": [],
   "source": [
    "# mylib:\n",
    "my_library = os.path.expanduser('~/.myconfigs')\n",
    "my_spark = os.path.expanduser('~/spark2_dfanalysis')\n",
    "sys.path.append(my_library)\n",
    "sys.path.append(my_spark)"
   ]
  },
  {
   "cell_type": "code",
   "execution_count": 4,
   "metadata": {
    "collapsed": true
   },
   "outputs": [],
   "source": [
    "import pyspark as spark\n",
    "from pyspark.sql import SparkSession\n",
    "from pyspark.sql.types import *\n",
    "from pyspark.sql.functions import *\n",
    "\n",
    "# spark = SparkSession.builder.appName('myappname').getOrCreate()\n",
    "# print(spark)"
   ]
  },
  {
   "cell_type": "code",
   "execution_count": 5,
   "metadata": {
    "collapsed": true
   },
   "outputs": [],
   "source": [
    "# print(dir(pyspark))\n",
    "# print(dir(pyspark.sql))\n",
    "# print(dir(pyspark.rdd))"
   ]
  },
  {
   "cell_type": "code",
   "execution_count": 6,
   "metadata": {},
   "outputs": [
    {
     "name": "stdout",
     "output_type": "stream",
     "text": [
      "<pyspark.sql.session.SparkSession object at 0x000001E275E884A8>\n"
     ]
    }
   ],
   "source": [
    "from shared.app_context import *\n",
    "\n",
    "ctx = ApplicationContext(\"Dev-Job\")\n",
    "print(ctx.spark)"
   ]
  },
  {
   "cell_type": "code",
   "execution_count": 7,
   "metadata": {
    "collapsed": true
   },
   "outputs": [],
   "source": [
    "# print(sys.path)\n",
    "from builder.DataFrameBuild import *"
   ]
  },
  {
   "cell_type": "markdown",
   "metadata": {},
   "source": [
    "## DataFrameBuild Class:\n",
    "### x = DataFrameBuild(ctx.spark)"
   ]
  },
  {
   "cell_type": "code",
   "execution_count": 8,
   "metadata": {
    "collapsed": true
   },
   "outputs": [],
   "source": [
    "x = DataFrameBuild(ctx.spark)"
   ]
  },
  {
   "cell_type": "markdown",
   "metadata": {},
   "source": [
    "DF1"
   ]
  },
  {
   "cell_type": "code",
   "execution_count": 9,
   "metadata": {
    "collapsed": true
   },
   "outputs": [],
   "source": [
    "x = DataFrameBuild(ctx.spark)\n",
    "num = 500\n",
    "df1 = x.arrays_to_dataframe([[int(x) for x in np.linspace(1,num,num)],\n",
    "                             x.build_array(\"string\",num=num,width=8),\n",
    "                             x.build_array(\"integer\",num=num,nrange=(1,4)),\n",
    "                             x.build_array(\"integer\",num=num,nrange=(1,12)),\n",
    "                             x.build_array(\"double\",num=num,nrange=(0.0,10000))],\n",
    "                            ['index','passwords','quarter','month','price'])"
   ]
  },
  {
   "cell_type": "markdown",
   "metadata": {},
   "source": [
    "DF2"
   ]
  },
  {
   "cell_type": "code",
   "execution_count": 10,
   "metadata": {
    "collapsed": true
   },
   "outputs": [],
   "source": [
    "x = DataFrameBuild(ctx.spark)\n",
    "num = 500\n",
    "df2 = x.arrays_to_dataframe([[int(x) for x in np.linspace(1,num,num)],\n",
    "                             x.build_array(\"string\",num=num,width=8),\n",
    "                             x.build_array(\"integer\",num=num,nrange=(1,4)),\n",
    "                             x.build_array(\"integer\",num=num,nrange=(1,12)),\n",
    "                             x.build_array(\"double\",num=num,nrange=(0.0,10000))],\n",
    "                             ['index','passwords','quarter','month','price'])"
   ]
  },
  {
   "cell_type": "code",
   "execution_count": 11,
   "metadata": {},
   "outputs": [
    {
     "name": "stdout",
     "output_type": "stream",
     "text": [
      "+-----+---------+-------+-----+------------------+\n",
      "|index|passwords|quarter|month|             price|\n",
      "+-----+---------+-------+-----+------------------+\n",
      "|    1| huivhhmu|      1|    3|2630.0502273448824|\n",
      "|    2| yeqeeuln|      2|    3| 8607.493101038992|\n",
      "|    3| tczhbial|      3|    9| 7319.622097388472|\n",
      "|    4| psohunad|      2|    5|1051.9242606094658|\n",
      "|    5| bziyoyng|      1|    7|  9467.83973201856|\n",
      "|    6| fochpsqc|      3|    9| 8977.763785809775|\n",
      "|    7| xoqvwfof|      3|    2| 8164.109542146126|\n",
      "|    8| lmykhwfr|      2|    3|5831.6693574204455|\n",
      "|    9| fvccucob|      4|    7|  76.6504561997905|\n",
      "|   10| lobirzbj|      4|    5|  3007.90576308791|\n",
      "+-----+---------+-------+-----+------------------+\n",
      "\n"
     ]
    }
   ],
   "source": [
    "df1.limit(10).show()"
   ]
  },
  {
   "cell_type": "code",
   "execution_count": 12,
   "metadata": {
    "scrolled": true
   },
   "outputs": [
    {
     "name": "stdout",
     "output_type": "stream",
     "text": [
      "+-----+---------+-------+-----+------------------+\n",
      "|index|passwords|quarter|month|             price|\n",
      "+-----+---------+-------+-----+------------------+\n",
      "|    1| mesobjzv|      4|    2|4473.7634872110475|\n",
      "|    2| ehdalvrh|      1|    3| 2598.552149475184|\n",
      "|    3| rgwpselg|      1|    4| 7419.241704989037|\n",
      "|    4| etizuslt|      4|    4| 9787.726663196883|\n",
      "|    5| hatwuigy|      2|    9|7896.8214705474575|\n",
      "|    6| pmxiqmsl|      4|    2|1810.1809488475496|\n",
      "|    7| pqmepioc|      1|    2| 946.3025831009786|\n",
      "|    8| afbmkhco|      1|    1| 1027.703719523463|\n",
      "|    9| dliymgco|      4|    9| 6265.596032886944|\n",
      "|   10| wdvbjjdo|      3|   10| 6911.999954002019|\n",
      "+-----+---------+-------+-----+------------------+\n",
      "\n"
     ]
    }
   ],
   "source": [
    "df2.limit(10).show()"
   ]
  },
  {
   "cell_type": "markdown",
   "metadata": {},
   "source": [
    "## Join df1 and df2 on indices."
   ]
  },
  {
   "cell_type": "code",
   "execution_count": 60,
   "metadata": {
    "collapsed": true
   },
   "outputs": [],
   "source": [
    "df_index = df1.join(df2,df1.index == df2.index)\n",
    "df_index = df1.join(df2,df1[\"index\"] == df2[\"index\"])"
   ]
  },
  {
   "cell_type": "code",
   "execution_count": 61,
   "metadata": {},
   "outputs": [
    {
     "name": "stdout",
     "output_type": "stream",
     "text": [
      "Wall time: 2 ms\n"
     ]
    },
    {
     "data": {
      "text/plain": [
       "DataFrame[index: bigint, passwords: string, quarter: bigint, month: bigint, price: double, index: bigint, passwords: string, quarter: bigint, month: bigint, price: double]"
      ]
     },
     "execution_count": 61,
     "metadata": {},
     "output_type": "execute_result"
    }
   ],
   "source": [
    "%%time\n",
    "df_index.cache()"
   ]
  },
  {
   "cell_type": "code",
   "execution_count": 62,
   "metadata": {},
   "outputs": [
    {
     "name": "stdout",
     "output_type": "stream",
     "text": [
      "+-----+---------+-------+-----+------------------+-----+---------+-------+-----+------------------+\n",
      "|index|passwords|quarter|month|             price|index|passwords|quarter|month|             price|\n",
      "+-----+---------+-------+-----+------------------+-----+---------+-------+-----+------------------+\n",
      "|   26| qerglufq|      2|    1|3030.4061156760918|   26| wxgpatxj|      1|    2|3387.6597958352263|\n",
      "|   29| aigyphwn|      1|   10|  6252.80216631731|   29| oiemkyzy|      2|    1|4023.8255056872863|\n",
      "|  474| udgmapre|      2|    4| 9749.675099684515|  474| rjowkrqh|      4|    9| 6632.458760756636|\n",
      "|   65| bhlxckok|      3|    9| 7814.899323398169|   65| oygsbzid|      2|    3|3433.3381516495733|\n",
      "|  191| szbxvtnz|      4|    9| 9491.417542858147|  191| osvytxei|      2|    9|1161.2357048689792|\n",
      "|  418| pnpfiwrk|      3|   10| 7230.036629785022|  418| vaumhtcy|      4|    8|  36.0142648019568|\n",
      "|  222| ccymeaxh|      1|    9|  5908.93062973059|  222| gcomxhhv|      3|    5| 8488.318332444042|\n",
      "|  270| ddfjfxzt|      4|    3| 5970.621724729035|  270| skbjxrog|      1|    3| 7568.249534754637|\n",
      "|  293| jknaddua|      2|    7| 5566.910796298438|  293| njekvwmh|      4|    8| 2770.976587685471|\n",
      "|  243| rfrahdoj|      4|    3| 2508.249351565942|  243| zchczlnb|      2|    8| 4210.342994686196|\n",
      "|  278| spcrvwgi|      4|    2|  1374.59222039512|  278| rfzsjvja|      4|    3| 5856.952043542598|\n",
      "|  367| jxclrdyx|      2|    6| 8226.681964452644|  367| rkizrmwc|      3|   10| 7406.103465920653|\n",
      "|  442| rwwuglhq|      2|   11| 7050.418869549039|  442| yxhhwqmg|      4|    1| 83.69776464811184|\n",
      "|   19| cpldjaiv|      1|    2| 8293.457027686814|   19| mzahrhba|      4|    1| 9884.640549816078|\n",
      "|   54| kfcplqyn|      3|    9| 9558.520838842534|   54| derokvpy|      2|   11| 9945.487081450286|\n",
      "|  296| jdzelnus|      2|    4| 63.80729882147884|  296| okpsltwp|      3|   10| 4948.580670919397|\n",
      "|  277| lqgljcsv|      2|    1|1694.3824389919105|  277| nufsfxdh|      3|    6| 5334.676839178573|\n",
      "|  287| tsirclwb|      1|   10| 883.9196795238624|  287| mjojrjhk|      4|    8| 4094.679253981852|\n",
      "|  348| iwmorpau|      3|   11| 8844.075521039702|  348| zgmfvxmo|      3|    8| 6478.862381798661|\n",
      "|  415| wikukapk|      4|    8| 4738.217283211133|  415| gfswfbwz|      2|   10| 4116.937947551068|\n",
      "+-----+---------+-------+-----+------------------+-----+---------+-------+-----+------------------+\n",
      "only showing top 20 rows\n",
      "\n"
     ]
    }
   ],
   "source": [
    "df_index.show(20)"
   ]
  },
  {
   "cell_type": "code",
   "execution_count": 58,
   "metadata": {},
   "outputs": [
    {
     "data": {
      "text/plain": [
       "['index',\n",
       " 'passwords',\n",
       " 'quarter',\n",
       " 'month',\n",
       " 'price',\n",
       " 'index',\n",
       " 'passwords',\n",
       " 'quarter',\n",
       " 'month',\n",
       " 'price']"
      ]
     },
     "execution_count": 58,
     "metadata": {},
     "output_type": "execute_result"
    }
   ],
   "source": [
    "df_index.columns"
   ]
  },
  {
   "cell_type": "markdown",
   "metadata": {},
   "source": [
    "## Join df1 and df2 on indices. (round 2)"
   ]
  },
  {
   "cell_type": "code",
   "execution_count": 71,
   "metadata": {
    "collapsed": true
   },
   "outputs": [],
   "source": [
    "df_i2 = df1.alias(\"o\")\\\n",
    ".join(df2.alias(\"t\"),col(\"o.index\") == col(\"t.index\"))\n",
    "\n",
    "# df_index = df1.join(df2,df1[\"index\"] == df2[\"index\"])"
   ]
  },
  {
   "cell_type": "code",
   "execution_count": 72,
   "metadata": {},
   "outputs": [
    {
     "name": "stdout",
     "output_type": "stream",
     "text": [
      "Wall time: 0 ns\n"
     ]
    },
    {
     "data": {
      "text/plain": [
       "DataFrame[index: bigint, passwords: string, quarter: bigint, month: bigint, price: double, index: bigint, passwords: string, quarter: bigint, month: bigint, price: double]"
      ]
     },
     "execution_count": 72,
     "metadata": {},
     "output_type": "execute_result"
    }
   ],
   "source": [
    "%%time\n",
    "df_i2.cache()"
   ]
  },
  {
   "cell_type": "code",
   "execution_count": 73,
   "metadata": {},
   "outputs": [
    {
     "name": "stdout",
     "output_type": "stream",
     "text": [
      "+-----+---------+-------+-----+------------------+-----+---------+-------+-----+------------------+\n",
      "|index|passwords|quarter|month|             price|index|passwords|quarter|month|             price|\n",
      "+-----+---------+-------+-----+------------------+-----+---------+-------+-----+------------------+\n",
      "|   26| qerglufq|      2|    1|3030.4061156760918|   26| wxgpatxj|      1|    2|3387.6597958352263|\n",
      "|   29| aigyphwn|      1|   10|  6252.80216631731|   29| oiemkyzy|      2|    1|4023.8255056872863|\n",
      "|  474| udgmapre|      2|    4| 9749.675099684515|  474| rjowkrqh|      4|    9| 6632.458760756636|\n",
      "|   65| bhlxckok|      3|    9| 7814.899323398169|   65| oygsbzid|      2|    3|3433.3381516495733|\n",
      "|  191| szbxvtnz|      4|    9| 9491.417542858147|  191| osvytxei|      2|    9|1161.2357048689792|\n",
      "|  418| pnpfiwrk|      3|   10| 7230.036629785022|  418| vaumhtcy|      4|    8|  36.0142648019568|\n",
      "|  222| ccymeaxh|      1|    9|  5908.93062973059|  222| gcomxhhv|      3|    5| 8488.318332444042|\n",
      "|  270| ddfjfxzt|      4|    3| 5970.621724729035|  270| skbjxrog|      1|    3| 7568.249534754637|\n",
      "|  293| jknaddua|      2|    7| 5566.910796298438|  293| njekvwmh|      4|    8| 2770.976587685471|\n",
      "|  243| rfrahdoj|      4|    3| 2508.249351565942|  243| zchczlnb|      2|    8| 4210.342994686196|\n",
      "|  278| spcrvwgi|      4|    2|  1374.59222039512|  278| rfzsjvja|      4|    3| 5856.952043542598|\n",
      "|  367| jxclrdyx|      2|    6| 8226.681964452644|  367| rkizrmwc|      3|   10| 7406.103465920653|\n",
      "|  442| rwwuglhq|      2|   11| 7050.418869549039|  442| yxhhwqmg|      4|    1| 83.69776464811184|\n",
      "|   19| cpldjaiv|      1|    2| 8293.457027686814|   19| mzahrhba|      4|    1| 9884.640549816078|\n",
      "|   54| kfcplqyn|      3|    9| 9558.520838842534|   54| derokvpy|      2|   11| 9945.487081450286|\n",
      "|  296| jdzelnus|      2|    4| 63.80729882147884|  296| okpsltwp|      3|   10| 4948.580670919397|\n",
      "|  277| lqgljcsv|      2|    1|1694.3824389919105|  277| nufsfxdh|      3|    6| 5334.676839178573|\n",
      "|  287| tsirclwb|      1|   10| 883.9196795238624|  287| mjojrjhk|      4|    8| 4094.679253981852|\n",
      "|  348| iwmorpau|      3|   11| 8844.075521039702|  348| zgmfvxmo|      3|    8| 6478.862381798661|\n",
      "|  415| wikukapk|      4|    8| 4738.217283211133|  415| gfswfbwz|      2|   10| 4116.937947551068|\n",
      "+-----+---------+-------+-----+------------------+-----+---------+-------+-----+------------------+\n",
      "only showing top 20 rows\n",
      "\n"
     ]
    }
   ],
   "source": [
    "df_i2.show(20)"
   ]
  },
  {
   "cell_type": "code",
   "execution_count": 74,
   "metadata": {},
   "outputs": [
    {
     "data": {
      "text/plain": [
       "['index',\n",
       " 'passwords',\n",
       " 'quarter',\n",
       " 'month',\n",
       " 'price',\n",
       " 'index',\n",
       " 'passwords',\n",
       " 'quarter',\n",
       " 'month',\n",
       " 'price']"
      ]
     },
     "execution_count": 74,
     "metadata": {},
     "output_type": "execute_result"
    }
   ],
   "source": [
    "df_i2.columns"
   ]
  },
  {
   "cell_type": "markdown",
   "metadata": {},
   "source": [
    "## Create a new column calculated from current column values."
   ]
  },
  {
   "cell_type": "code",
   "execution_count": null,
   "metadata": {
    "collapsed": true
   },
   "outputs": [],
   "source": []
  }
 ],
 "metadata": {
  "kernelspec": {
   "display_name": "Python 3",
   "language": "python",
   "name": "python3"
  },
  "language_info": {
   "codemirror_mode": {
    "name": "ipython",
    "version": 3
   },
   "file_extension": ".py",
   "mimetype": "text/x-python",
   "name": "python",
   "nbconvert_exporter": "python",
   "pygments_lexer": "ipython3",
   "version": "3.6.1"
  }
 },
 "nbformat": 4,
 "nbformat_minor": 2
}
