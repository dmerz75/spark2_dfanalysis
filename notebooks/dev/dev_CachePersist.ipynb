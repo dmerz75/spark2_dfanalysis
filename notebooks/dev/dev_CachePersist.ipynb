{
 "cells": [
  {
   "cell_type": "code",
   "execution_count": 1,
   "metadata": {
    "collapsed": true
   },
   "outputs": [],
   "source": [
    "# My Standard Spark Session!\n",
    "\n",
    "# Python libraries:\n",
    "import os\n",
    "import sys\n",
    "import re\n",
    "from dateutil import parser\n",
    "# import datetime\n",
    "from datetime import datetime\n",
    "from datetime import date\n",
    "import builtins\n",
    "import json\n",
    "import functools\n",
    "import operator\n",
    "from itertools import product\n",
    "\n",
    "# Numpy & Pandas!\n",
    "import numpy as np\n",
    "import pandas as pd\n",
    "pd.options.display.float_format = '{:20,.2f}'.format\n",
    "pd.options.display.max_columns = None\n",
    "\n",
    "# Spark!\n",
    "from pyspark import SparkContext\n",
    "from pyspark.sql.functions import *\n",
    "from pyspark.sql.types import *\n",
    "from pyspark.sql.window import *\n",
    "from pyspark.sql import SparkSession, Row\n",
    "\n",
    "\n",
    "spark = SparkSession.builder.appName(\"myapp\").getOrCreate()\n",
    "\n",
    "#     spark = SparkSession.builder.master(\"yarn\")\\\n",
    "#     .config(\"spark.executor.instances\", \"32\")\\\n",
    "#     .config(\"spark.executor.cores\", \"4\")\\\n",
    "#     .config(\"spark.executor.memory\", \"4G\")\\\n",
    "#     .config(\"spark.driver.memory\", \"4G\")\\\n",
    "#     .config(\"spark.executor.memoryOverhead\",\"4G\")\\\n",
    "#     .config(\"spark.yarn.queue\",\"Medium\")\\\n",
    "#     .appName(\"myapp\")\\\n",
    "#     .getOrCreate()\n",
    "\n",
    "sc = spark.sparkContext\n",
    "spark.conf.set(\"spark.sql.sources.partitionColumnTypeInference.enabled\", \"false\")\n",
    "spark.conf.set(\"spark.debug.maxToStringFields\",\"true\")"
   ]
  },
  {
   "cell_type": "code",
   "execution_count": 2,
   "metadata": {},
   "outputs": [
    {
     "name": "stdout",
     "output_type": "stream",
     "text": [
      " Python Version:  3.6.1 |Anaconda 4.4.0 (64-bit)| (default, May 11 2017, 13:25:24) [MSC v.1900 64 bit (AMD64)]\n",
      "    Python Path:  C:\\Users\\d810216\\AppData\\Local\\conda\\conda\\envs\\my_root\n",
      " My Python Libs:  C:\\Users\\d810216/.myconfigs\n",
      "   My Spark Dir:  C:\\Users\\d810216/spark2_dfanalysis\n",
      "   My Spark Ctx:  <pyspark.sql.session.SparkSession object at 0x0000012AE005F5F8>\n"
     ]
    }
   ],
   "source": [
    "%load_ext autoreload\n",
    "%autoreload 2\n",
    "# The autoreload extension is already loaded. To reload it, use:\n",
    "#  %reload_ext autoreload\n",
    "\n",
    "\n",
    "# mylib:\n",
    "my_library = os.path.expanduser('~/.myconfigs')\n",
    "my_spark = os.path.expanduser('~/spark2_dfanalysis')\n",
    "sys.path.append(my_library)\n",
    "sys.path.append(my_spark)\n",
    "\n",
    "\n",
    "from shared.app_context import *\n",
    "from builder.DataFrameBuild import *\n",
    "\n",
    "ctx = ApplicationContext(\"Dev-Job\")\n",
    "\n",
    "DFB = DataFrameBuild(ctx.spark)\n",
    "\n",
    "print(\"%16s  %s\" % (\"Python Version:\",sys.version))\n",
    "print(\"%16s  %s\" % (\"Python Path:\",os.path.dirname(sys.executable)))\n",
    "print(\"%16s  %s\" % (\"My Python Libs:\",my_library))\n",
    "print(\"%16s  %s\" % (\"My Spark Dir:\",my_spark))\n",
    "print(\"%16s  %s\" % (\"My Spark Ctx:\",ctx.spark))\n",
    "# print(ctx.spark)\n",
    "# print(os.listdir(my_spark))\n",
    "# print(sys.path)\n",
    "# print(\"\\n\")"
   ]
  },
  {
   "cell_type": "code",
   "execution_count": 39,
   "metadata": {
    "collapsed": true
   },
   "outputs": [],
   "source": [
    "def pandas(df,n=5):\n",
    "    return df.limit(5).toPandas()"
   ]
  },
  {
   "cell_type": "code",
   "execution_count": 3,
   "metadata": {},
   "outputs": [
    {
     "data": {
      "text/html": [
       "<div>\n",
       "<style scoped>\n",
       "    .dataframe tbody tr th:only-of-type {\n",
       "        vertical-align: middle;\n",
       "    }\n",
       "\n",
       "    .dataframe tbody tr th {\n",
       "        vertical-align: top;\n",
       "    }\n",
       "\n",
       "    .dataframe thead th {\n",
       "        text-align: right;\n",
       "    }\n",
       "</style>\n",
       "<table border=\"1\" class=\"dataframe\">\n",
       "  <thead>\n",
       "    <tr style=\"text-align: right;\">\n",
       "      <th></th>\n",
       "      <th>index</th>\n",
       "      <th>name</th>\n",
       "      <th>month</th>\n",
       "      <th>year</th>\n",
       "      <th>age</th>\n",
       "      <th>net_worth</th>\n",
       "    </tr>\n",
       "  </thead>\n",
       "  <tbody>\n",
       "    <tr>\n",
       "      <th>0</th>\n",
       "      <td>0</td>\n",
       "      <td>brian</td>\n",
       "      <td>August</td>\n",
       "      <td>1913</td>\n",
       "      <td>106</td>\n",
       "      <td>29,302.44</td>\n",
       "    </tr>\n",
       "    <tr>\n",
       "      <th>1</th>\n",
       "      <td>1</td>\n",
       "      <td>lisa</td>\n",
       "      <td>November</td>\n",
       "      <td>1912</td>\n",
       "      <td>107</td>\n",
       "      <td>55,594.58</td>\n",
       "    </tr>\n",
       "    <tr>\n",
       "      <th>2</th>\n",
       "      <td>2</td>\n",
       "      <td>ryan</td>\n",
       "      <td>October</td>\n",
       "      <td>1987</td>\n",
       "      <td>32</td>\n",
       "      <td>62,653.70</td>\n",
       "    </tr>\n",
       "    <tr>\n",
       "      <th>3</th>\n",
       "      <td>3</td>\n",
       "      <td>doug</td>\n",
       "      <td>July</td>\n",
       "      <td>1910</td>\n",
       "      <td>109</td>\n",
       "      <td>72,482.98</td>\n",
       "    </tr>\n",
       "  </tbody>\n",
       "</table>\n",
       "</div>"
      ],
      "text/plain": [
       "   index   name     month  year  age            net_worth\n",
       "0      0  brian    August  1913  106            29,302.44\n",
       "1      1   lisa  November  1912  107            55,594.58\n",
       "2      2   ryan   October  1987   32            62,653.70\n",
       "3      3   doug      July  1910  109            72,482.98"
      ]
     },
     "execution_count": 3,
     "metadata": {},
     "output_type": "execute_result"
    }
   ],
   "source": [
    "# 6 columns: strings, ints, float\n",
    "import random\n",
    "\n",
    "num = 100000\n",
    "\n",
    "lst_months = ['January','Feburary','March','April','May','June',\n",
    "              'July','August','September','October','November','December']\n",
    "\n",
    "indices = [int(x) for x in np.linspace(0,num-1,num)]\n",
    "# print(indices)\n",
    "\n",
    "years = [random.randint(1900,2019) for x in range(num)]\n",
    "# print(years)\n",
    "\n",
    "ages = [(2019 - x) for x in years]\n",
    "# print(ages)\n",
    "\n",
    "months = [random.choice(lst_months) for x in range(num)]\n",
    "# print(months)\n",
    "\n",
    "worth = [random.random() * 100000 for x in range(num)]\n",
    "# print(worth)\n",
    "\n",
    "lst_names = ['sarah','bill','steve','mary','alyssa','brian','elizabeth','josh','ryan','katie','connor',\n",
    "             'erica','lisa','doug','stacie','chris','gary','tom','ellen','paula']\n",
    "names = [random.choice(lst_names) for x in range(num)]\n",
    "\n",
    "\n",
    "df = DFB.arrays_to_dataframe([indices,names,months,years,ages,worth],\n",
    "                             ['index','name','month','year','age','net_worth'])\n",
    "\n",
    "\n",
    "df.limit(4).toPandas()"
   ]
  },
  {
   "cell_type": "markdown",
   "metadata": {},
   "source": [
    "# Multiple Dataframes\n",
    "- df's 1-8"
   ]
  },
  {
   "cell_type": "code",
   "execution_count": 4,
   "metadata": {
    "collapsed": true
   },
   "outputs": [],
   "source": [
    "num = 250000"
   ]
  },
  {
   "cell_type": "code",
   "execution_count": 5,
   "metadata": {
    "collapsed": true
   },
   "outputs": [],
   "source": [
    "df1 = DFB.arrays_to_dataframe(\n",
    "    [[int(x) for x in np.linspace(1,num,num)],\n",
    "     DFB.build_array(\"string\",num=num,width=3),\n",
    "     DFB.build_array(\"integer\",num=num,nrange=(100,999)),\n",
    "     DFB.build_array(\"integer\",num=num,nrange=(1,12)),\n",
    "     DFB.build_array(\"integer\",num=num,nrange=(1,28)),\n",
    "     DFB.build_array(\"integer\",num=num,nrange=(2010,2019)),\n",
    "     DFB.build_array(\"integer\",num=num,nrange=(0,23)),\n",
    "     DFB.build_array(\"integer\",num=num,nrange=(0,59)),\n",
    "     DFB.build_array(\"integer\",num=num,nrange=(0,59)),\n",
    "     DFB.build_array(\"double\",num=num,nrange=(1000,100000))],\n",
    "    ['index','vin','division','month','day','year','hour','minute','second','price'])"
   ]
  },
  {
   "cell_type": "code",
   "execution_count": 6,
   "metadata": {
    "collapsed": true
   },
   "outputs": [],
   "source": [
    "df2 = DFB.arrays_to_dataframe(\n",
    "    [[int(x) for x in np.linspace(1,num,num)],\n",
    "     DFB.build_array(\"string\",num=num,width=3),\n",
    "     DFB.build_array(\"integer\",num=num,nrange=(100,999)),\n",
    "     DFB.build_array(\"integer\",num=num,nrange=(1,12)),\n",
    "     DFB.build_array(\"integer\",num=num,nrange=(1,28)),\n",
    "     DFB.build_array(\"integer\",num=num,nrange=(2010,2019)),\n",
    "     DFB.build_array(\"integer\",num=num,nrange=(0,23)),\n",
    "     DFB.build_array(\"integer\",num=num,nrange=(0,59)),\n",
    "     DFB.build_array(\"integer\",num=num,nrange=(0,59)),\n",
    "     DFB.build_array(\"double\",num=num,nrange=(1000,100000))],\n",
    "    ['index','vin','division','month','day','year','hour','minute','second','price'])"
   ]
  },
  {
   "cell_type": "code",
   "execution_count": 7,
   "metadata": {
    "collapsed": true
   },
   "outputs": [],
   "source": [
    "df3 = DFB.arrays_to_dataframe(\n",
    "    [[int(x) for x in np.linspace(1,num,num)],\n",
    "     DFB.build_array(\"string\",num=num,width=3),\n",
    "     DFB.build_array(\"integer\",num=num,nrange=(100,999)),\n",
    "     DFB.build_array(\"integer\",num=num,nrange=(1,12)),\n",
    "     DFB.build_array(\"integer\",num=num,nrange=(1,28)),\n",
    "     DFB.build_array(\"integer\",num=num,nrange=(2010,2019)),\n",
    "     DFB.build_array(\"integer\",num=num,nrange=(0,23)),\n",
    "     DFB.build_array(\"integer\",num=num,nrange=(0,59)),\n",
    "     DFB.build_array(\"integer\",num=num,nrange=(0,59)),\n",
    "     DFB.build_array(\"double\",num=num,nrange=(1000,100000))],\n",
    "    ['index','vin','division','month','day','year','hour','minute','second','price'])"
   ]
  },
  {
   "cell_type": "code",
   "execution_count": 8,
   "metadata": {
    "collapsed": true
   },
   "outputs": [],
   "source": [
    "df4 = DFB.arrays_to_dataframe(\n",
    "    [[int(x) for x in np.linspace(1,num,num)],\n",
    "     DFB.build_array(\"string\",num=num,width=3),\n",
    "     DFB.build_array(\"integer\",num=num,nrange=(100,999)),\n",
    "     DFB.build_array(\"integer\",num=num,nrange=(1,12)),\n",
    "     DFB.build_array(\"integer\",num=num,nrange=(1,28)),\n",
    "     DFB.build_array(\"integer\",num=num,nrange=(2010,2019)),\n",
    "     DFB.build_array(\"integer\",num=num,nrange=(0,23)),\n",
    "     DFB.build_array(\"integer\",num=num,nrange=(0,59)),\n",
    "     DFB.build_array(\"integer\",num=num,nrange=(0,59)),\n",
    "     DFB.build_array(\"double\",num=num,nrange=(1000,100000))],\n",
    "    ['index','vin','division','month','day','year','hour','minute','second','price'])"
   ]
  },
  {
   "cell_type": "code",
   "execution_count": 9,
   "metadata": {
    "collapsed": true
   },
   "outputs": [],
   "source": [
    "df5 = DFB.arrays_to_dataframe(\n",
    "    [[int(x) for x in np.linspace(1,num,num)],\n",
    "     DFB.build_array(\"string\",num=num,width=3),\n",
    "     DFB.build_array(\"integer\",num=num,nrange=(100,999)),\n",
    "     DFB.build_array(\"integer\",num=num,nrange=(1,12)),\n",
    "     DFB.build_array(\"integer\",num=num,nrange=(1,28)),\n",
    "     DFB.build_array(\"integer\",num=num,nrange=(2010,2019)),\n",
    "     DFB.build_array(\"integer\",num=num,nrange=(0,23)),\n",
    "     DFB.build_array(\"integer\",num=num,nrange=(0,59)),\n",
    "     DFB.build_array(\"integer\",num=num,nrange=(0,59)),\n",
    "     DFB.build_array(\"double\",num=num,nrange=(1000,100000))],\n",
    "    ['index','vin','division','month','day','year','hour','minute','second','price'])"
   ]
  },
  {
   "cell_type": "code",
   "execution_count": 10,
   "metadata": {
    "collapsed": true
   },
   "outputs": [],
   "source": [
    "df6 = DFB.arrays_to_dataframe(\n",
    "    [[int(x) for x in np.linspace(1,num,num)],\n",
    "     DFB.build_array(\"string\",num=num,width=3),\n",
    "     DFB.build_array(\"integer\",num=num,nrange=(100,999)),\n",
    "     DFB.build_array(\"integer\",num=num,nrange=(1,12)),\n",
    "     DFB.build_array(\"integer\",num=num,nrange=(1,28)),\n",
    "     DFB.build_array(\"integer\",num=num,nrange=(2010,2019)),\n",
    "     DFB.build_array(\"integer\",num=num,nrange=(0,23)),\n",
    "     DFB.build_array(\"integer\",num=num,nrange=(0,59)),\n",
    "     DFB.build_array(\"integer\",num=num,nrange=(0,59)),\n",
    "     DFB.build_array(\"double\",num=num,nrange=(1000,100000))],\n",
    "    ['index','vin','division','month','day','year','hour','minute','second','price'])"
   ]
  },
  {
   "cell_type": "code",
   "execution_count": 11,
   "metadata": {
    "collapsed": true
   },
   "outputs": [],
   "source": [
    "df7 = DFB.arrays_to_dataframe(\n",
    "    [[int(x) for x in np.linspace(1,num,num)],\n",
    "     DFB.build_array(\"string\",num=num,width=3),\n",
    "     DFB.build_array(\"integer\",num=num,nrange=(100,999)),\n",
    "     DFB.build_array(\"integer\",num=num,nrange=(1,12)),\n",
    "     DFB.build_array(\"integer\",num=num,nrange=(1,28)),\n",
    "     DFB.build_array(\"integer\",num=num,nrange=(2010,2019)),\n",
    "     DFB.build_array(\"integer\",num=num,nrange=(0,23)),\n",
    "     DFB.build_array(\"integer\",num=num,nrange=(0,59)),\n",
    "     DFB.build_array(\"integer\",num=num,nrange=(0,59)),\n",
    "     DFB.build_array(\"double\",num=num,nrange=(1000,100000))],\n",
    "    ['index','vin','division','month','day','year','hour','minute','second','price'])"
   ]
  },
  {
   "cell_type": "code",
   "execution_count": 12,
   "metadata": {
    "collapsed": true
   },
   "outputs": [],
   "source": [
    "df8 = DFB.arrays_to_dataframe(\n",
    "    [[int(x) for x in np.linspace(1,num,num)],\n",
    "     DFB.build_array(\"string\",num=num,width=3),\n",
    "     DFB.build_array(\"integer\",num=num,nrange=(100,999)),\n",
    "     DFB.build_array(\"integer\",num=num,nrange=(1,12)),\n",
    "     DFB.build_array(\"integer\",num=num,nrange=(1,28)),\n",
    "     DFB.build_array(\"integer\",num=num,nrange=(2010,2019)),\n",
    "     DFB.build_array(\"integer\",num=num,nrange=(0,23)),\n",
    "     DFB.build_array(\"integer\",num=num,nrange=(0,59)),\n",
    "     DFB.build_array(\"integer\",num=num,nrange=(0,59)),\n",
    "     DFB.build_array(\"double\",num=num,nrange=(1000,100000))],\n",
    "    ['index','vin','division','month','day','year','hour','minute','second','price'])"
   ]
  },
  {
   "cell_type": "markdown",
   "metadata": {},
   "source": [
    "# Cache, Filter, Union.\n",
    "# Filter, Union, Cache. \n",
    "- Filter, Union Cache - only a few iterations, but 5-10% faster"
   ]
  },
  {
   "cell_type": "code",
   "execution_count": 13,
   "metadata": {},
   "outputs": [
    {
     "name": "stdout",
     "output_type": "stream",
     "text": [
      "df_all is now: 494716\n",
      "Wall time: 20.2 s\n"
     ]
    }
   ],
   "source": [
    "%%time\n",
    "\n",
    "# cache, filter, append, count\n",
    "\n",
    "\n",
    "for i,df in enumerate([df1,df2,df3,df4]):\n",
    "    \n",
    "    df.cache()\n",
    "    df = df.filter(col(\"price\") <= 50000)\n",
    "    \n",
    "    if i == 0:\n",
    "        df_all = df\n",
    "    else:\n",
    "        df_all = df_all.union(df)\n",
    "    \n",
    "    #print(df_all.count())\n",
    "    \n",
    "print('df_all is now:',df_all.count())\n",
    "\n",
    "\n",
    "# 100000\n",
    "# 1st time:\n",
    "# df_all is now: 197196\n",
    "# Wall time: 17.4 s\n",
    "\n",
    "# 2nd time: (quite typically)\n",
    "# df_all is now: 198174\n",
    "# Wall time: 546 ms\n",
    "\n",
    "# 250000\n",
    "# df_all is now: 494716\n",
    "# Wall time: 20.2 s"
   ]
  },
  {
   "cell_type": "code",
   "execution_count": 14,
   "metadata": {},
   "outputs": [
    {
     "name": "stdout",
     "output_type": "stream",
     "text": [
      "df_all is now: 494921\n",
      "Wall time: 18.3 s\n"
     ]
    }
   ],
   "source": [
    "%%time\n",
    "\n",
    "# filter, append, cache, count\n",
    "\n",
    "for i,df in enumerate([df5,df6,df7,df8]):\n",
    "    \n",
    "    df = df.filter(col(\"price\") <= 50000)\n",
    "    \n",
    "    if i == 0:\n",
    "        df_all = df\n",
    "    else:\n",
    "        df_all = df_all.union(df)\n",
    "    \n",
    "    #print(df_all.count())\n",
    "    \n",
    "df_all.cache()\n",
    "print('df_all is now:',df_all.count())\n",
    "\n",
    "\n",
    "\n",
    "# 1st time:\n",
    "# df_all is now: 198248\n",
    "# Wall time: 17.1 s\n",
    "\n",
    "# 2nd time: (quite typically)\n",
    "# df_all is now: 198350\n",
    "# Wall time: 358 ms\n",
    "\n",
    "# 250000\n",
    "# df_all is now: 494921\n",
    "# Wall time: 18.3 s"
   ]
  },
  {
   "cell_type": "markdown",
   "metadata": {},
   "source": [
    "# Union df1 and df2, unpersist df1 or df2 ..\n",
    "Seems that nothing happens .."
   ]
  },
  {
   "cell_type": "code",
   "execution_count": 16,
   "metadata": {
    "collapsed": true
   },
   "outputs": [],
   "source": [
    "num = 100000"
   ]
  },
  {
   "cell_type": "code",
   "execution_count": 17,
   "metadata": {
    "collapsed": true
   },
   "outputs": [],
   "source": [
    "df10 = DFB.arrays_to_dataframe(\n",
    "    [[int(x) for x in np.linspace(1,num,num)],\n",
    "     DFB.build_array(\"string\",num=num,width=3),\n",
    "     DFB.build_array(\"integer\",num=num,nrange=(100,999)),\n",
    "     DFB.build_array(\"integer\",num=num,nrange=(1,12)),\n",
    "     DFB.build_array(\"integer\",num=num,nrange=(1,28)),\n",
    "     DFB.build_array(\"integer\",num=num,nrange=(2010,2019)),\n",
    "     DFB.build_array(\"integer\",num=num,nrange=(0,23)),\n",
    "     DFB.build_array(\"integer\",num=num,nrange=(0,59)),\n",
    "     DFB.build_array(\"integer\",num=num,nrange=(0,59)),\n",
    "     DFB.build_array(\"double\",num=num,nrange=(1000,100000))],\n",
    "    ['index','vin','division','month','day','year','hour','minute','second','price'])"
   ]
  },
  {
   "cell_type": "code",
   "execution_count": 18,
   "metadata": {
    "collapsed": true
   },
   "outputs": [],
   "source": [
    "df11 = DFB.arrays_to_dataframe(\n",
    "    [[int(x) for x in np.linspace(1,num,num)],\n",
    "     DFB.build_array(\"string\",num=num,width=3),\n",
    "     DFB.build_array(\"integer\",num=num,nrange=(100,999)),\n",
    "     DFB.build_array(\"integer\",num=num,nrange=(1,12)),\n",
    "     DFB.build_array(\"integer\",num=num,nrange=(1,28)),\n",
    "     DFB.build_array(\"integer\",num=num,nrange=(2010,2019)),\n",
    "     DFB.build_array(\"integer\",num=num,nrange=(0,23)),\n",
    "     DFB.build_array(\"integer\",num=num,nrange=(0,59)),\n",
    "     DFB.build_array(\"integer\",num=num,nrange=(0,59)),\n",
    "     DFB.build_array(\"double\",num=num,nrange=(1000,100000))],\n",
    "    ['index','vin','division','month','day','year','hour','minute','second','price'])"
   ]
  },
  {
   "cell_type": "code",
   "execution_count": 19,
   "metadata": {},
   "outputs": [
    {
     "name": "stdout",
     "output_type": "stream",
     "text": [
      "494921\n"
     ]
    }
   ],
   "source": [
    "df12 = df10.union(df11)\n",
    "print(df_all.count())"
   ]
  },
  {
   "cell_type": "code",
   "execution_count": 20,
   "metadata": {},
   "outputs": [
    {
     "data": {
      "text/plain": [
       "DataFrame[index: bigint, vin: string, division: bigint, month: bigint, day: bigint, year: bigint, hour: bigint, minute: bigint, second: bigint, price: double]"
      ]
     },
     "execution_count": 20,
     "metadata": {},
     "output_type": "execute_result"
    }
   ],
   "source": [
    "df11.unpersist()"
   ]
  },
  {
   "cell_type": "code",
   "execution_count": 21,
   "metadata": {},
   "outputs": [
    {
     "data": {
      "text/plain": [
       "100000"
      ]
     },
     "execution_count": 21,
     "metadata": {},
     "output_type": "execute_result"
    }
   ],
   "source": [
    "df11.count()"
   ]
  },
  {
   "cell_type": "code",
   "execution_count": 22,
   "metadata": {},
   "outputs": [
    {
     "data": {
      "text/plain": [
       "100000"
      ]
     },
     "execution_count": 22,
     "metadata": {},
     "output_type": "execute_result"
    }
   ],
   "source": [
    "df10.count()"
   ]
  },
  {
   "cell_type": "code",
   "execution_count": 23,
   "metadata": {},
   "outputs": [
    {
     "data": {
      "text/plain": [
       "200000"
      ]
     },
     "execution_count": 23,
     "metadata": {},
     "output_type": "execute_result"
    }
   ],
   "source": [
    "df12.count()"
   ]
  },
  {
   "cell_type": "markdown",
   "metadata": {
    "collapsed": true
   },
   "source": [
    "# Check orderBy and join performance"
   ]
  },
  {
   "cell_type": "code",
   "execution_count": 45,
   "metadata": {
    "collapsed": true
   },
   "outputs": [],
   "source": [
    "num = 100000"
   ]
  },
  {
   "cell_type": "code",
   "execution_count": 46,
   "metadata": {},
   "outputs": [],
   "source": [
    "df20 = DFB.arrays_to_dataframe(\n",
    "    [DFB.build_array(\"integer\",num=num,nrange=(1000000,2000000)),\n",
    "     DFB.build_array(\"string\",num=num,width=3),\n",
    "     DFB.build_array(\"integer\",num=num,nrange=(100,999)),\n",
    "     DFB.build_array(\"integer\",num=num,nrange=(1,12)),\n",
    "     DFB.build_array(\"integer\",num=num,nrange=(1,28)),\n",
    "     DFB.build_array(\"integer\",num=num,nrange=(2010,2019)),\n",
    "     DFB.build_array(\"integer\",num=num,nrange=(0,23)),\n",
    "     DFB.build_array(\"integer\",num=num,nrange=(0,59)),\n",
    "     DFB.build_array(\"integer\",num=num,nrange=(0,59)),\n",
    "     DFB.build_array(\"double\",num=num,nrange=(1000,100000))],\n",
    "    ['index','vin','division','month','day','year','hour','minute','second','price'])"
   ]
  },
  {
   "cell_type": "code",
   "execution_count": 56,
   "metadata": {
    "collapsed": true
   },
   "outputs": [],
   "source": [
    "df21 = DFB.arrays_to_dataframe(\n",
    "    [DFB.build_array(\"integer\",num=num,nrange=(1000000,2000000)),\n",
    "     DFB.build_array(\"string\",num=num,width=3),\n",
    "     DFB.build_array(\"integer\",num=num,nrange=(100,999)),\n",
    "     DFB.build_array(\"integer\",num=num,nrange=(1,12)),\n",
    "     DFB.build_array(\"integer\",num=num,nrange=(1,28)),\n",
    "     DFB.build_array(\"integer\",num=num,nrange=(2010,2019)),\n",
    "     DFB.build_array(\"integer\",num=num,nrange=(0,23)),\n",
    "     DFB.build_array(\"integer\",num=num,nrange=(0,59)),\n",
    "     DFB.build_array(\"integer\",num=num,nrange=(0,59)),\n",
    "     DFB.build_array(\"double\",num=num,nrange=(1000,100000))],\n",
    "    ['index','vin','division','month','day','year','hour','minute','second','price'])"
   ]
  },
  {
   "cell_type": "code",
   "execution_count": 57,
   "metadata": {
    "collapsed": true
   },
   "outputs": [],
   "source": [
    "# unique_id = [col('index'),lit('_'),col('division')]"
   ]
  },
  {
   "cell_type": "code",
   "execution_count": 58,
   "metadata": {},
   "outputs": [],
   "source": [
    "# df22 = df20\\\n",
    "# .withColumn('key',concat(*unique_id))"
   ]
  },
  {
   "cell_type": "code",
   "execution_count": 59,
   "metadata": {
    "collapsed": true
   },
   "outputs": [],
   "source": [
    "# df23 = df21\\\n",
    "# .withColumn('key',concat(*unique_id))"
   ]
  },
  {
   "cell_type": "code",
   "execution_count": 60,
   "metadata": {},
   "outputs": [],
   "source": [
    "df22 = df20.alias(\"a\")\\\n",
    ".join(df21.alias(\"b\"),col(\"a.index\") == col(\"b.index\"),\"inner\")"
   ]
  },
  {
   "cell_type": "code",
   "execution_count": 61,
   "metadata": {},
   "outputs": [
    {
     "name": "stdout",
     "output_type": "stream",
     "text": [
      "Wall time: 17.3 s\n"
     ]
    },
    {
     "data": {
      "text/plain": [
       "10046"
      ]
     },
     "execution_count": 61,
     "metadata": {},
     "output_type": "execute_result"
    }
   ],
   "source": [
    "%%time\n",
    "df22.count()"
   ]
  },
  {
   "cell_type": "code",
   "execution_count": 70,
   "metadata": {
    "collapsed": true
   },
   "outputs": [],
   "source": [
    "df23 = df20.alias(\"a\")\\\n",
    ".join(df21.alias(\"b\"),col(\"a.index\") == col(\"b.index\"),\"outer\")"
   ]
  },
  {
   "cell_type": "code",
   "execution_count": 71,
   "metadata": {},
   "outputs": [
    {
     "data": {
      "text/plain": [
       "190957"
      ]
     },
     "execution_count": 71,
     "metadata": {},
     "output_type": "execute_result"
    }
   ],
   "source": [
    "df23.count()"
   ]
  },
  {
   "cell_type": "code",
   "execution_count": 67,
   "metadata": {
    "collapsed": true
   },
   "outputs": [],
   "source": [
    "df24 = df21.alias(\"a\")\\\n",
    ".join(df20.alias(\"b\"),col(\"a.index\") == col(\"b.index\"),\"outer\")"
   ]
  },
  {
   "cell_type": "code",
   "execution_count": 69,
   "metadata": {},
   "outputs": [
    {
     "data": {
      "text/plain": [
       "190957"
      ]
     },
     "execution_count": 69,
     "metadata": {},
     "output_type": "execute_result"
    }
   ],
   "source": [
    "df24.count()"
   ]
  },
  {
   "cell_type": "code",
   "execution_count": 73,
   "metadata": {
    "collapsed": true
   },
   "outputs": [],
   "source": [
    "df25 = df20.alias(\"a\")\\\n",
    ".join(df21.alias(\"b\"),col(\"a.index\") == col(\"b.index\"),\"left_outer\")"
   ]
  },
  {
   "cell_type": "code",
   "execution_count": 74,
   "metadata": {},
   "outputs": [
    {
     "data": {
      "text/plain": [
       "100507"
      ]
     },
     "execution_count": 74,
     "metadata": {},
     "output_type": "execute_result"
    }
   ],
   "source": [
    "df25.count()"
   ]
  },
  {
   "cell_type": "code",
   "execution_count": 75,
   "metadata": {
    "collapsed": true
   },
   "outputs": [],
   "source": [
    "df26 = df21.alias(\"a\")\\\n",
    ".join(df20.alias(\"b\"),col(\"a.index\") == col(\"b.index\"),\"left_outer\")"
   ]
  },
  {
   "cell_type": "code",
   "execution_count": 69,
   "metadata": {},
   "outputs": [
    {
     "data": {
      "text/plain": [
       "190957"
      ]
     },
     "execution_count": 69,
     "metadata": {},
     "output_type": "execute_result"
    }
   ],
   "source": [
    "df26.count()"
   ]
  },
  {
   "cell_type": "code",
   "execution_count": null,
   "metadata": {
    "collapsed": true
   },
   "outputs": [],
   "source": []
  },
  {
   "cell_type": "code",
   "execution_count": null,
   "metadata": {
    "collapsed": true
   },
   "outputs": [],
   "source": []
  },
  {
   "cell_type": "code",
   "execution_count": null,
   "metadata": {
    "collapsed": true
   },
   "outputs": [],
   "source": []
  },
  {
   "cell_type": "code",
   "execution_count": null,
   "metadata": {
    "collapsed": true
   },
   "outputs": [],
   "source": []
  },
  {
   "cell_type": "code",
   "execution_count": null,
   "metadata": {
    "collapsed": true
   },
   "outputs": [],
   "source": []
  },
  {
   "cell_type": "code",
   "execution_count": 38,
   "metadata": {},
   "outputs": [
    {
     "data": {
      "text/plain": [
       "12368"
      ]
     },
     "execution_count": 38,
     "metadata": {},
     "output_type": "execute_result"
    }
   ],
   "source": [
    "df1.filter(col(\"price\") <= 50000).count()"
   ]
  },
  {
   "cell_type": "code",
   "execution_count": 39,
   "metadata": {
    "collapsed": true
   },
   "outputs": [],
   "source": [
    "df_order = df_all.orderBy(\"division\").coalesce(24)"
   ]
  },
  {
   "cell_type": "code",
   "execution_count": 40,
   "metadata": {},
   "outputs": [
    {
     "data": {
      "text/plain": [
       "49306"
      ]
     },
     "execution_count": 40,
     "metadata": {},
     "output_type": "execute_result"
    }
   ],
   "source": [
    "df_order.count()"
   ]
  },
  {
   "cell_type": "code",
   "execution_count": 43,
   "metadata": {},
   "outputs": [
    {
     "data": {
      "text/html": [
       "<div>\n",
       "<style scoped>\n",
       "    .dataframe tbody tr th:only-of-type {\n",
       "        vertical-align: middle;\n",
       "    }\n",
       "\n",
       "    .dataframe tbody tr th {\n",
       "        vertical-align: top;\n",
       "    }\n",
       "\n",
       "    .dataframe thead th {\n",
       "        text-align: right;\n",
       "    }\n",
       "</style>\n",
       "<table border=\"1\" class=\"dataframe\">\n",
       "  <thead>\n",
       "    <tr style=\"text-align: right;\">\n",
       "      <th></th>\n",
       "      <th>index</th>\n",
       "      <th>vin</th>\n",
       "      <th>division</th>\n",
       "      <th>month</th>\n",
       "      <th>day</th>\n",
       "      <th>year</th>\n",
       "      <th>hour</th>\n",
       "      <th>minute</th>\n",
       "      <th>second</th>\n",
       "      <th>price</th>\n",
       "    </tr>\n",
       "  </thead>\n",
       "  <tbody>\n",
       "    <tr>\n",
       "      <th>0</th>\n",
       "      <td>3074</td>\n",
       "      <td>eec</td>\n",
       "      <td>100</td>\n",
       "      <td>7</td>\n",
       "      <td>11</td>\n",
       "      <td>2017</td>\n",
       "      <td>3</td>\n",
       "      <td>55</td>\n",
       "      <td>43</td>\n",
       "      <td>32,840.12</td>\n",
       "    </tr>\n",
       "    <tr>\n",
       "      <th>1</th>\n",
       "      <td>8000</td>\n",
       "      <td>srd</td>\n",
       "      <td>100</td>\n",
       "      <td>7</td>\n",
       "      <td>9</td>\n",
       "      <td>2019</td>\n",
       "      <td>5</td>\n",
       "      <td>24</td>\n",
       "      <td>50</td>\n",
       "      <td>29,188.40</td>\n",
       "    </tr>\n",
       "    <tr>\n",
       "      <th>2</th>\n",
       "      <td>8979</td>\n",
       "      <td>kic</td>\n",
       "      <td>100</td>\n",
       "      <td>7</td>\n",
       "      <td>21</td>\n",
       "      <td>2014</td>\n",
       "      <td>5</td>\n",
       "      <td>9</td>\n",
       "      <td>7</td>\n",
       "      <td>14,472.40</td>\n",
       "    </tr>\n",
       "    <tr>\n",
       "      <th>3</th>\n",
       "      <td>12945</td>\n",
       "      <td>wmq</td>\n",
       "      <td>100</td>\n",
       "      <td>5</td>\n",
       "      <td>13</td>\n",
       "      <td>2019</td>\n",
       "      <td>20</td>\n",
       "      <td>53</td>\n",
       "      <td>49</td>\n",
       "      <td>6,441.38</td>\n",
       "    </tr>\n",
       "  </tbody>\n",
       "</table>\n",
       "</div>"
      ],
      "text/plain": [
       "   index  vin  division  month  day  year  hour  minute  second  \\\n",
       "0   3074  eec       100      7   11  2017     3      55      43   \n",
       "1   8000  srd       100      7    9  2019     5      24      50   \n",
       "2   8979  kic       100      7   21  2014     5       9       7   \n",
       "3  12945  wmq       100      5   13  2019    20      53      49   \n",
       "\n",
       "                 price  \n",
       "0            32,840.12  \n",
       "1            29,188.40  \n",
       "2            14,472.40  \n",
       "3             6,441.38  "
      ]
     },
     "execution_count": 43,
     "metadata": {},
     "output_type": "execute_result"
    }
   ],
   "source": [
    "df_order.limit(8).toPandas()"
   ]
  },
  {
   "cell_type": "code",
   "execution_count": 46,
   "metadata": {
    "collapsed": true
   },
   "outputs": [],
   "source": [
    "df_order1 = df_all.orderBy(\"division\")"
   ]
  },
  {
   "cell_type": "code",
   "execution_count": 47,
   "metadata": {},
   "outputs": [
    {
     "data": {
      "text/plain": [
       "49306"
      ]
     },
     "execution_count": 47,
     "metadata": {},
     "output_type": "execute_result"
    }
   ],
   "source": [
    "df_order1.count()"
   ]
  },
  {
   "cell_type": "code",
   "execution_count": 48,
   "metadata": {},
   "outputs": [
    {
     "data": {
      "text/html": [
       "<div>\n",
       "<style scoped>\n",
       "    .dataframe tbody tr th:only-of-type {\n",
       "        vertical-align: middle;\n",
       "    }\n",
       "\n",
       "    .dataframe tbody tr th {\n",
       "        vertical-align: top;\n",
       "    }\n",
       "\n",
       "    .dataframe thead th {\n",
       "        text-align: right;\n",
       "    }\n",
       "</style>\n",
       "<table border=\"1\" class=\"dataframe\">\n",
       "  <thead>\n",
       "    <tr style=\"text-align: right;\">\n",
       "      <th></th>\n",
       "      <th>index</th>\n",
       "      <th>vin</th>\n",
       "      <th>division</th>\n",
       "      <th>month</th>\n",
       "      <th>day</th>\n",
       "      <th>year</th>\n",
       "      <th>hour</th>\n",
       "      <th>minute</th>\n",
       "      <th>second</th>\n",
       "      <th>price</th>\n",
       "    </tr>\n",
       "  </thead>\n",
       "  <tbody>\n",
       "    <tr>\n",
       "      <th>0</th>\n",
       "      <td>18846</td>\n",
       "      <td>kkn</td>\n",
       "      <td>100</td>\n",
       "      <td>4</td>\n",
       "      <td>7</td>\n",
       "      <td>2016</td>\n",
       "      <td>10</td>\n",
       "      <td>5</td>\n",
       "      <td>27</td>\n",
       "      <td>33,028.60</td>\n",
       "    </tr>\n",
       "    <tr>\n",
       "      <th>1</th>\n",
       "      <td>8979</td>\n",
       "      <td>kic</td>\n",
       "      <td>100</td>\n",
       "      <td>7</td>\n",
       "      <td>21</td>\n",
       "      <td>2014</td>\n",
       "      <td>5</td>\n",
       "      <td>9</td>\n",
       "      <td>7</td>\n",
       "      <td>14,472.40</td>\n",
       "    </tr>\n",
       "    <tr>\n",
       "      <th>2</th>\n",
       "      <td>8000</td>\n",
       "      <td>srd</td>\n",
       "      <td>100</td>\n",
       "      <td>7</td>\n",
       "      <td>9</td>\n",
       "      <td>2019</td>\n",
       "      <td>5</td>\n",
       "      <td>24</td>\n",
       "      <td>50</td>\n",
       "      <td>29,188.40</td>\n",
       "    </tr>\n",
       "    <tr>\n",
       "      <th>3</th>\n",
       "      <td>22697</td>\n",
       "      <td>adf</td>\n",
       "      <td>100</td>\n",
       "      <td>12</td>\n",
       "      <td>11</td>\n",
       "      <td>2011</td>\n",
       "      <td>7</td>\n",
       "      <td>41</td>\n",
       "      <td>45</td>\n",
       "      <td>38,874.78</td>\n",
       "    </tr>\n",
       "  </tbody>\n",
       "</table>\n",
       "</div>"
      ],
      "text/plain": [
       "   index  vin  division  month  day  year  hour  minute  second  \\\n",
       "0  18846  kkn       100      4    7  2016    10       5      27   \n",
       "1   8979  kic       100      7   21  2014     5       9       7   \n",
       "2   8000  srd       100      7    9  2019     5      24      50   \n",
       "3  22697  adf       100     12   11  2011     7      41      45   \n",
       "\n",
       "                 price  \n",
       "0            33,028.60  \n",
       "1            14,472.40  \n",
       "2            29,188.40  \n",
       "3            38,874.78  "
      ]
     },
     "execution_count": 48,
     "metadata": {},
     "output_type": "execute_result"
    }
   ],
   "source": [
    "df_order1.limit(8).toPandas()"
   ]
  },
  {
   "cell_type": "code",
   "execution_count": 44,
   "metadata": {},
   "outputs": [
    {
     "data": {
      "text/html": [
       "<div>\n",
       "<style scoped>\n",
       "    .dataframe tbody tr th:only-of-type {\n",
       "        vertical-align: middle;\n",
       "    }\n",
       "\n",
       "    .dataframe tbody tr th {\n",
       "        vertical-align: top;\n",
       "    }\n",
       "\n",
       "    .dataframe thead th {\n",
       "        text-align: right;\n",
       "    }\n",
       "</style>\n",
       "<table border=\"1\" class=\"dataframe\">\n",
       "  <thead>\n",
       "    <tr style=\"text-align: right;\">\n",
       "      <th></th>\n",
       "      <th>index</th>\n",
       "      <th>vin</th>\n",
       "      <th>division</th>\n",
       "      <th>month</th>\n",
       "      <th>day</th>\n",
       "      <th>year</th>\n",
       "      <th>hour</th>\n",
       "      <th>minute</th>\n",
       "      <th>second</th>\n",
       "      <th>price</th>\n",
       "    </tr>\n",
       "  </thead>\n",
       "  <tbody>\n",
       "    <tr>\n",
       "      <th>0</th>\n",
       "      <td>1</td>\n",
       "      <td>zdk</td>\n",
       "      <td>809</td>\n",
       "      <td>2</td>\n",
       "      <td>11</td>\n",
       "      <td>2010</td>\n",
       "      <td>17</td>\n",
       "      <td>50</td>\n",
       "      <td>23</td>\n",
       "      <td>1,271.38</td>\n",
       "    </tr>\n",
       "    <tr>\n",
       "      <th>1</th>\n",
       "      <td>2</td>\n",
       "      <td>spo</td>\n",
       "      <td>631</td>\n",
       "      <td>3</td>\n",
       "      <td>20</td>\n",
       "      <td>2015</td>\n",
       "      <td>5</td>\n",
       "      <td>7</td>\n",
       "      <td>2</td>\n",
       "      <td>6,543.39</td>\n",
       "    </tr>\n",
       "    <tr>\n",
       "      <th>2</th>\n",
       "      <td>4</td>\n",
       "      <td>pxs</td>\n",
       "      <td>214</td>\n",
       "      <td>4</td>\n",
       "      <td>8</td>\n",
       "      <td>2017</td>\n",
       "      <td>0</td>\n",
       "      <td>58</td>\n",
       "      <td>48</td>\n",
       "      <td>1,439.67</td>\n",
       "    </tr>\n",
       "    <tr>\n",
       "      <th>3</th>\n",
       "      <td>5</td>\n",
       "      <td>dnb</td>\n",
       "      <td>473</td>\n",
       "      <td>10</td>\n",
       "      <td>17</td>\n",
       "      <td>2010</td>\n",
       "      <td>13</td>\n",
       "      <td>18</td>\n",
       "      <td>7</td>\n",
       "      <td>19,084.29</td>\n",
       "    </tr>\n",
       "  </tbody>\n",
       "</table>\n",
       "</div>"
      ],
      "text/plain": [
       "   index  vin  division  month  day  year  hour  minute  second  \\\n",
       "0      1  zdk       809      2   11  2010    17      50      23   \n",
       "1      2  spo       631      3   20  2015     5       7       2   \n",
       "2      4  pxs       214      4    8  2017     0      58      48   \n",
       "3      5  dnb       473     10   17  2010    13      18       7   \n",
       "\n",
       "                 price  \n",
       "0             1,271.38  \n",
       "1             6,543.39  \n",
       "2             1,439.67  \n",
       "3            19,084.29  "
      ]
     },
     "execution_count": 44,
     "metadata": {},
     "output_type": "execute_result"
    }
   ],
   "source": [
    "df_all.limit(8).toPandas()"
   ]
  },
  {
   "cell_type": "code",
   "execution_count": 45,
   "metadata": {},
   "outputs": [
    {
     "data": {
      "text/html": [
       "<div>\n",
       "<style scoped>\n",
       "    .dataframe tbody tr th:only-of-type {\n",
       "        vertical-align: middle;\n",
       "    }\n",
       "\n",
       "    .dataframe tbody tr th {\n",
       "        vertical-align: top;\n",
       "    }\n",
       "\n",
       "    .dataframe thead th {\n",
       "        text-align: right;\n",
       "    }\n",
       "</style>\n",
       "<table border=\"1\" class=\"dataframe\">\n",
       "  <thead>\n",
       "    <tr style=\"text-align: right;\">\n",
       "      <th></th>\n",
       "      <th>index</th>\n",
       "      <th>vin</th>\n",
       "      <th>division</th>\n",
       "      <th>month</th>\n",
       "      <th>day</th>\n",
       "      <th>year</th>\n",
       "      <th>hour</th>\n",
       "      <th>minute</th>\n",
       "      <th>second</th>\n",
       "      <th>price</th>\n",
       "    </tr>\n",
       "  </thead>\n",
       "  <tbody>\n",
       "    <tr>\n",
       "      <th>0</th>\n",
       "      <td>1</td>\n",
       "      <td>zdk</td>\n",
       "      <td>809</td>\n",
       "      <td>2</td>\n",
       "      <td>11</td>\n",
       "      <td>2010</td>\n",
       "      <td>17</td>\n",
       "      <td>50</td>\n",
       "      <td>23</td>\n",
       "      <td>1,271.38</td>\n",
       "    </tr>\n",
       "    <tr>\n",
       "      <th>1</th>\n",
       "      <td>2</td>\n",
       "      <td>spo</td>\n",
       "      <td>631</td>\n",
       "      <td>3</td>\n",
       "      <td>20</td>\n",
       "      <td>2015</td>\n",
       "      <td>5</td>\n",
       "      <td>7</td>\n",
       "      <td>2</td>\n",
       "      <td>6,543.39</td>\n",
       "    </tr>\n",
       "    <tr>\n",
       "      <th>2</th>\n",
       "      <td>3</td>\n",
       "      <td>gxk</td>\n",
       "      <td>432</td>\n",
       "      <td>11</td>\n",
       "      <td>16</td>\n",
       "      <td>2014</td>\n",
       "      <td>5</td>\n",
       "      <td>16</td>\n",
       "      <td>22</td>\n",
       "      <td>52,792.71</td>\n",
       "    </tr>\n",
       "    <tr>\n",
       "      <th>3</th>\n",
       "      <td>4</td>\n",
       "      <td>pxs</td>\n",
       "      <td>214</td>\n",
       "      <td>4</td>\n",
       "      <td>8</td>\n",
       "      <td>2017</td>\n",
       "      <td>0</td>\n",
       "      <td>58</td>\n",
       "      <td>48</td>\n",
       "      <td>1,439.67</td>\n",
       "    </tr>\n",
       "  </tbody>\n",
       "</table>\n",
       "</div>"
      ],
      "text/plain": [
       "   index  vin  division  month  day  year  hour  minute  second  \\\n",
       "0      1  zdk       809      2   11  2010    17      50      23   \n",
       "1      2  spo       631      3   20  2015     5       7       2   \n",
       "2      3  gxk       432     11   16  2014     5      16      22   \n",
       "3      4  pxs       214      4    8  2017     0      58      48   \n",
       "\n",
       "                 price  \n",
       "0             1,271.38  \n",
       "1             6,543.39  \n",
       "2            52,792.71  \n",
       "3             1,439.67  "
      ]
     },
     "execution_count": 45,
     "metadata": {},
     "output_type": "execute_result"
    }
   ],
   "source": [
    "df1.limit(8).toPandas()"
   ]
  },
  {
   "cell_type": "code",
   "execution_count": null,
   "metadata": {
    "collapsed": true
   },
   "outputs": [],
   "source": []
  },
  {
   "cell_type": "markdown",
   "metadata": {},
   "source": [
    "# Working Example:"
   ]
  },
  {
   "cell_type": "code",
   "execution_count": 4,
   "metadata": {},
   "outputs": [
    {
     "data": {
      "text/plain": [
       "DataFrame[index: bigint, name: string, month: string, year: bigint, age: bigint, net_worth: double]"
      ]
     },
     "execution_count": 4,
     "metadata": {},
     "output_type": "execute_result"
    }
   ],
   "source": [
    "df.cache()"
   ]
  },
  {
   "cell_type": "code",
   "execution_count": 5,
   "metadata": {},
   "outputs": [
    {
     "data": {
      "text/plain": [
       "100000"
      ]
     },
     "execution_count": 5,
     "metadata": {},
     "output_type": "execute_result"
    }
   ],
   "source": [
    "df.count()"
   ]
  },
  {
   "cell_type": "code",
   "execution_count": 6,
   "metadata": {},
   "outputs": [
    {
     "data": {
      "text/html": [
       "<div>\n",
       "<style scoped>\n",
       "    .dataframe tbody tr th:only-of-type {\n",
       "        vertical-align: middle;\n",
       "    }\n",
       "\n",
       "    .dataframe tbody tr th {\n",
       "        vertical-align: top;\n",
       "    }\n",
       "\n",
       "    .dataframe thead th {\n",
       "        text-align: right;\n",
       "    }\n",
       "</style>\n",
       "<table border=\"1\" class=\"dataframe\">\n",
       "  <thead>\n",
       "    <tr style=\"text-align: right;\">\n",
       "      <th></th>\n",
       "      <th>index</th>\n",
       "      <th>make</th>\n",
       "    </tr>\n",
       "  </thead>\n",
       "  <tbody>\n",
       "    <tr>\n",
       "      <th>0</th>\n",
       "      <td>1</td>\n",
       "      <td>Tesla</td>\n",
       "    </tr>\n",
       "    <tr>\n",
       "      <th>1</th>\n",
       "      <td>2</td>\n",
       "      <td>Volkswagon</td>\n",
       "    </tr>\n",
       "    <tr>\n",
       "      <th>2</th>\n",
       "      <td>3</td>\n",
       "      <td>Honda</td>\n",
       "    </tr>\n",
       "    <tr>\n",
       "      <th>3</th>\n",
       "      <td>4</td>\n",
       "      <td>Jeep</td>\n",
       "    </tr>\n",
       "  </tbody>\n",
       "</table>\n",
       "</div>"
      ],
      "text/plain": [
       "   index        make\n",
       "0      1       Tesla\n",
       "1      2  Volkswagon\n",
       "2      3       Honda\n",
       "3      4        Jeep"
      ]
     },
     "execution_count": 6,
     "metadata": {},
     "output_type": "execute_result"
    }
   ],
   "source": [
    "# 2 columns: integer, string\n",
    "\n",
    "lst_cars = [random.choice(['Honda','Toyota','Chevy','Ford','Tesla','Volkswagon','Hyundai','Jeep']) for x in range(num)]\n",
    "\n",
    "df2 = DFB.arrays_to_dataframe(\n",
    "    [[int(x) for x in np.linspace(1,num,num)],\n",
    "    lst_cars],\n",
    "    ['index','make'])\n",
    "\n",
    "df2.limit(4).toPandas()"
   ]
  },
  {
   "cell_type": "code",
   "execution_count": 7,
   "metadata": {},
   "outputs": [
    {
     "data": {
      "text/plain": [
       "100000"
      ]
     },
     "execution_count": 7,
     "metadata": {},
     "output_type": "execute_result"
    }
   ],
   "source": [
    "df2.count()"
   ]
  },
  {
   "cell_type": "code",
   "execution_count": 8,
   "metadata": {
    "collapsed": true
   },
   "outputs": [],
   "source": [
    "df3 = df2"
   ]
  },
  {
   "cell_type": "code",
   "execution_count": 9,
   "metadata": {},
   "outputs": [
    {
     "data": {
      "text/html": [
       "<div>\n",
       "<style scoped>\n",
       "    .dataframe tbody tr th:only-of-type {\n",
       "        vertical-align: middle;\n",
       "    }\n",
       "\n",
       "    .dataframe tbody tr th {\n",
       "        vertical-align: top;\n",
       "    }\n",
       "\n",
       "    .dataframe thead th {\n",
       "        text-align: right;\n",
       "    }\n",
       "</style>\n",
       "<table border=\"1\" class=\"dataframe\">\n",
       "  <thead>\n",
       "    <tr style=\"text-align: right;\">\n",
       "      <th></th>\n",
       "      <th>index</th>\n",
       "      <th>make</th>\n",
       "    </tr>\n",
       "  </thead>\n",
       "  <tbody>\n",
       "    <tr>\n",
       "      <th>0</th>\n",
       "      <td>1</td>\n",
       "      <td>Jeep</td>\n",
       "    </tr>\n",
       "    <tr>\n",
       "      <th>1</th>\n",
       "      <td>2</td>\n",
       "      <td>Volkswagon</td>\n",
       "    </tr>\n",
       "    <tr>\n",
       "      <th>2</th>\n",
       "      <td>3</td>\n",
       "      <td>Toyota</td>\n",
       "    </tr>\n",
       "    <tr>\n",
       "      <th>3</th>\n",
       "      <td>4</td>\n",
       "      <td>Tesla</td>\n",
       "    </tr>\n",
       "  </tbody>\n",
       "</table>\n",
       "</div>"
      ],
      "text/plain": [
       "   index        make\n",
       "0      1        Jeep\n",
       "1      2  Volkswagon\n",
       "2      3      Toyota\n",
       "3      4       Tesla"
      ]
     },
     "execution_count": 9,
     "metadata": {},
     "output_type": "execute_result"
    }
   ],
   "source": [
    "# 2 columns: integer, string\n",
    "num = 25000\n",
    "\n",
    "lst_cars = [random.choice(['Honda','Toyota','Chevy','Ford','Tesla','Volkswagon','Hyundai','Jeep']) for x in range(num)]\n",
    "\n",
    "df5 = DFB.arrays_to_dataframe(\n",
    "    [[int(x) for x in np.linspace(1,num,num)],\n",
    "    lst_cars],\n",
    "    ['index','make'])\n",
    "\n",
    "df5.limit(4).toPandas()"
   ]
  },
  {
   "cell_type": "code",
   "execution_count": 10,
   "metadata": {},
   "outputs": [
    {
     "data": {
      "text/plain": [
       "25000"
      ]
     },
     "execution_count": 10,
     "metadata": {},
     "output_type": "execute_result"
    }
   ],
   "source": [
    "df5.count()"
   ]
  },
  {
   "cell_type": "code",
   "execution_count": 11,
   "metadata": {
    "collapsed": true
   },
   "outputs": [],
   "source": [
    "df6 = df5"
   ]
  },
  {
   "cell_type": "code",
   "execution_count": 12,
   "metadata": {},
   "outputs": [
    {
     "data": {
      "text/plain": [
       "25000"
      ]
     },
     "execution_count": 12,
     "metadata": {},
     "output_type": "execute_result"
    }
   ],
   "source": [
    "df6.count()"
   ]
  },
  {
   "cell_type": "code",
   "execution_count": 13,
   "metadata": {},
   "outputs": [
    {
     "data": {
      "text/plain": [
       "DataFrame[index: bigint, make: string]"
      ]
     },
     "execution_count": 13,
     "metadata": {},
     "output_type": "execute_result"
    }
   ],
   "source": [
    "df2.unpersist()"
   ]
  },
  {
   "cell_type": "code",
   "execution_count": 14,
   "metadata": {},
   "outputs": [
    {
     "data": {
      "text/plain": [
       "100000"
      ]
     },
     "execution_count": 14,
     "metadata": {},
     "output_type": "execute_result"
    }
   ],
   "source": [
    "df2.count()"
   ]
  },
  {
   "cell_type": "code",
   "execution_count": 15,
   "metadata": {},
   "outputs": [
    {
     "data": {
      "text/plain": [
       "100000"
      ]
     },
     "execution_count": 15,
     "metadata": {},
     "output_type": "execute_result"
    }
   ],
   "source": [
    "df3.count()"
   ]
  }
 ],
 "metadata": {
  "kernelspec": {
   "display_name": "Python 3",
   "language": "python",
   "name": "python3"
  },
  "language_info": {
   "codemirror_mode": {
    "name": "ipython",
    "version": 3
   },
   "file_extension": ".py",
   "mimetype": "text/x-python",
   "name": "python",
   "nbconvert_exporter": "python",
   "pygments_lexer": "ipython3",
   "version": "3.6.1"
  }
 },
 "nbformat": 4,
 "nbformat_minor": 2
}
