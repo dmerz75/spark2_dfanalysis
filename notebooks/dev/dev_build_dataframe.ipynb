{
 "cells": [
  {
   "cell_type": "markdown",
   "metadata": {},
   "source": [
    "# DataFrame Builder:"
   ]
  },
  {
   "cell_type": "code",
   "execution_count": 1,
   "metadata": {
    "collapsed": true
   },
   "outputs": [],
   "source": [
    "%load_ext autoreload\n",
    "%autoreload 2\n",
    "\n",
    "# The autoreload extension is already loaded. To reload it, use:\n",
    "#  %reload_ext autoreload"
   ]
  },
  {
   "cell_type": "code",
   "execution_count": 2,
   "metadata": {
    "collapsed": true
   },
   "outputs": [],
   "source": [
    "import os\n",
    "import sys\n",
    "import numpy as np\n",
    "import pandas as pd\n",
    "\n",
    "pd.options.display.float_format = '{:20,.2f}'.format"
   ]
  },
  {
   "cell_type": "code",
   "execution_count": 3,
   "metadata": {},
   "outputs": [
    {
     "name": "stdout",
     "output_type": "stream",
     "text": [
      "3.6.1 |Anaconda 4.4.0 (64-bit)| (default, May 11 2017, 13:25:24) [MSC v.1900 64 bit (AMD64)]\n"
     ]
    }
   ],
   "source": [
    "print(sys.version)"
   ]
  },
  {
   "cell_type": "code",
   "execution_count": 4,
   "metadata": {},
   "outputs": [
    {
     "name": "stdout",
     "output_type": "stream",
     "text": [
      "C:\\Users\\d810216\\AppData\\Local\\conda\\conda\\envs\\my_root\n"
     ]
    }
   ],
   "source": [
    "print(os.path.dirname(sys.executable))"
   ]
  },
  {
   "cell_type": "code",
   "execution_count": 5,
   "metadata": {
    "collapsed": true
   },
   "outputs": [],
   "source": [
    "# mylib:\n",
    "my_library = os.path.expanduser('~/.myconfigs')\n",
    "my_spark = os.path.expanduser('~/spark2_dfanalysis')\n",
    "sys.path.append(my_library)\n",
    "sys.path.append(my_spark)"
   ]
  },
  {
   "cell_type": "code",
   "execution_count": 6,
   "metadata": {},
   "outputs": [
    {
     "name": "stdout",
     "output_type": "stream",
     "text": [
      "C:\\Users\\d810216/.myconfigs\n",
      "C:\\Users\\d810216/spark2_dfanalysis\n",
      "['.git', '.gitignore', 'builder', 'css', 'data', 'LICENSE', 'notebooks', 'pages', 'project', 'README.md', 'shared', 'TODO.md', '_config.yml', '__init__.py']\n"
     ]
    }
   ],
   "source": [
    "# print(sys.path)\n",
    "print(my_library)\n",
    "print(my_spark)\n",
    "print(os.listdir(my_spark))"
   ]
  },
  {
   "cell_type": "code",
   "execution_count": 7,
   "metadata": {
    "collapsed": true
   },
   "outputs": [],
   "source": [
    "import pyspark as spark\n",
    "from pyspark.sql import SparkSession\n",
    "from pyspark.sql.types import *\n",
    "from pyspark.sql.functions import *\n",
    "\n",
    "# spark = SparkSession.builder.appName('myappname').getOrCreate()\n",
    "# print(spark)"
   ]
  },
  {
   "cell_type": "code",
   "execution_count": 8,
   "metadata": {
    "collapsed": true
   },
   "outputs": [],
   "source": [
    "# print(dir(pyspark))\n",
    "# print(dir(pyspark.sql))\n",
    "# print(dir(pyspark.rdd))"
   ]
  },
  {
   "cell_type": "code",
   "execution_count": 9,
   "metadata": {},
   "outputs": [
    {
     "name": "stdout",
     "output_type": "stream",
     "text": [
      "<pyspark.sql.session.SparkSession object at 0x000001C2145485C0>\n"
     ]
    }
   ],
   "source": [
    "from shared.app_context import *\n",
    "\n",
    "ctx = ApplicationContext(\"Dev-Job\")\n",
    "print(ctx.spark)"
   ]
  },
  {
   "cell_type": "code",
   "execution_count": 10,
   "metadata": {
    "collapsed": true
   },
   "outputs": [],
   "source": [
    "# print(sys.path)\n",
    "from builder.DataFrameBuild import *"
   ]
  },
  {
   "cell_type": "markdown",
   "metadata": {},
   "source": [
    "## DataFrameBuild\n",
    "### x = DataFrameBuild(ctx.spark)"
   ]
  },
  {
   "cell_type": "code",
   "execution_count": 11,
   "metadata": {},
   "outputs": [
    {
     "name": "stdout",
     "output_type": "stream",
     "text": [
      "<class 'builder.DataFrameBuild.DataFrameBuild'>\n",
      "['__class__', '__delattr__', '__dict__', '__dir__', '__doc__', '__eq__', '__format__', '__ge__', '__getattribute__', '__gt__', '__hash__', '__init__', '__init_subclass__', '__le__', '__lt__', '__module__', '__ne__', '__new__', '__reduce__', '__reduce_ex__', '__repr__', '__setattr__', '__sizeof__', '__str__', '__subclasshook__', '__weakref__', 'arrays_to_dataframe', 'build_array', 'get_StructField', 'print_size', 'spark']\n",
      "<pyspark.sql.session.SparkSession object at 0x0000022E1E659208>\n"
     ]
    }
   ],
   "source": [
    "x = DataFrameBuild(ctx.spark)\n",
    "print(type(x))\n",
    "print(dir(x))\n",
    "print(x.spark)"
   ]
  },
  {
   "cell_type": "markdown",
   "metadata": {},
   "source": [
    "### Create Arrays"
   ]
  },
  {
   "cell_type": "code",
   "execution_count": 12,
   "metadata": {},
   "outputs": [
    {
     "name": "stdout",
     "output_type": "stream",
     "text": [
      "12 ['ocarqqsz', 'owyuddnz', 'xfsvhitx', 'rqlryonj', 'yeocttnz', 'mdukeybu', 'mgoznubv', 'jenkdvaw', 'pvpcegfj', 'kvftnzyf', 'xbqtnnfg', 'hkgvuqzd']\n",
      "12 [3 4 3 4 4 0 3 0 2 4 1 1]\n",
      "12 [10.02379843 10.09148806 10.05080446 10.09075265 10.07750868 10.02849091\n",
      " 10.00031573 10.03118225 10.05912232 10.04654396 10.08371479 10.04413393]\n"
     ]
    }
   ],
   "source": [
    "mystr = x.build_array(\"string\",num=12,width=8) \n",
    "myint = x.build_array(\"integer\",num=12,nrange=(0,4))    # inclusive on range\n",
    "mydoub = x.build_array(\"double\",num=12,nrange=(10,10.1))\n",
    "\n",
    "print(len(mystr),mystr)\n",
    "print(len(myint),myint)\n",
    "print(len(mydoub),mydoub)"
   ]
  },
  {
   "cell_type": "markdown",
   "metadata": {},
   "source": [
    "### Create DataFrames"
   ]
  },
  {
   "cell_type": "markdown",
   "metadata": {},
   "source": [
    "#### with a list of list of strings, and list of string of length 1"
   ]
  },
  {
   "cell_type": "code",
   "execution_count": 13,
   "metadata": {},
   "outputs": [
    {
     "name": "stdout",
     "output_type": "stream",
     "text": [
      "12\n",
      "+--------------+\n",
      "|random_letters|\n",
      "+--------------+\n",
      "|      ocarqqsz|\n",
      "|      owyuddnz|\n",
      "|      xfsvhitx|\n",
      "|      rqlryonj|\n",
      "|      yeocttnz|\n",
      "|      mdukeybu|\n",
      "|      mgoznubv|\n",
      "|      jenkdvaw|\n",
      "|      pvpcegfj|\n",
      "|      kvftnzyf|\n",
      "|      xbqtnnfg|\n",
      "|      hkgvuqzd|\n",
      "+--------------+\n",
      "\n"
     ]
    }
   ],
   "source": [
    "dfx = x.arrays_to_dataframe([mystr],['random_letters'])\n",
    "print(dfx.count())\n",
    "dfx.show()\n",
    "\n",
    "# [StructField(str,StringType,true)]\n",
    "# ['str']"
   ]
  },
  {
   "cell_type": "markdown",
   "metadata": {},
   "source": [
    "#### with a list of list of strings, and a string"
   ]
  },
  {
   "cell_type": "code",
   "execution_count": 14,
   "metadata": {},
   "outputs": [
    {
     "name": "stdout",
     "output_type": "stream",
     "text": [
      "12\n",
      "+--------------+\n",
      "|random_letters|\n",
      "+--------------+\n",
      "|      ocarqqsz|\n",
      "|      owyuddnz|\n",
      "|      xfsvhitx|\n",
      "|      rqlryonj|\n",
      "|      yeocttnz|\n",
      "|      mdukeybu|\n",
      "|      mgoznubv|\n",
      "|      jenkdvaw|\n",
      "|      pvpcegfj|\n",
      "|      kvftnzyf|\n",
      "|      xbqtnnfg|\n",
      "|      hkgvuqzd|\n",
      "+--------------+\n",
      "\n"
     ]
    }
   ],
   "source": [
    "dfx = x.arrays_to_dataframe([mystr],'random_letters')\n",
    "print(dfx.count())\n",
    "dfx.show()\n",
    "\n",
    "# [StructField(str,StringType,true)]\n",
    "# ['str']"
   ]
  },
  {
   "cell_type": "markdown",
   "metadata": {},
   "source": [
    "#### with lists of length 2"
   ]
  },
  {
   "cell_type": "code",
   "execution_count": 15,
   "metadata": {},
   "outputs": [
    {
     "name": "stdout",
     "output_type": "stream",
     "text": [
      "[3 4 3 4 4 0 3 0 2 4 1 1]\n",
      "['ocarqqsz', 'owyuddnz', 'xfsvhitx', 'rqlryonj', 'yeocttnz', 'mdukeybu', 'mgoznubv', 'jenkdvaw', 'pvpcegfj', 'kvftnzyf', 'xbqtnnfg', 'hkgvuqzd']\n",
      "12\n",
      "+-----------+--------------+\n",
      "|random_ints|random_letters|\n",
      "+-----------+--------------+\n",
      "|          3|      ocarqqsz|\n",
      "|          4|      owyuddnz|\n",
      "|          3|      xfsvhitx|\n",
      "|          4|      rqlryonj|\n",
      "|          4|      yeocttnz|\n",
      "|          0|      mdukeybu|\n",
      "|          3|      mgoznubv|\n",
      "|          0|      jenkdvaw|\n",
      "|          2|      pvpcegfj|\n",
      "|          4|      kvftnzyf|\n",
      "|          1|      xbqtnnfg|\n",
      "|          1|      hkgvuqzd|\n",
      "+-----------+--------------+\n",
      "\n"
     ]
    }
   ],
   "source": [
    "print(myint)\n",
    "print(mystr)\n",
    "dfx = x.arrays_to_dataframe([myint,mystr],['random_ints','random_letters'])\n",
    "print(dfx.count())\n",
    "dfx.show()\n",
    "\n",
    "# [StructField(str,StringType,true)]\n",
    "# ['str']"
   ]
  },
  {
   "cell_type": "markdown",
   "metadata": {},
   "source": [
    "#### with a list and a string"
   ]
  },
  {
   "cell_type": "code",
   "execution_count": 16,
   "metadata": {},
   "outputs": [
    {
     "name": "stdout",
     "output_type": "stream",
     "text": [
      "12\n",
      "+-------------+\n",
      "|crazy_strings|\n",
      "+-------------+\n",
      "|     ocarqqsz|\n",
      "|     owyuddnz|\n",
      "|     xfsvhitx|\n",
      "|     rqlryonj|\n",
      "|     yeocttnz|\n",
      "|     mdukeybu|\n",
      "|     mgoznubv|\n",
      "|     jenkdvaw|\n",
      "|     pvpcegfj|\n",
      "|     kvftnzyf|\n",
      "|     xbqtnnfg|\n",
      "|     hkgvuqzd|\n",
      "+-------------+\n",
      "\n"
     ]
    }
   ],
   "source": [
    "dfx = x.arrays_to_dataframe(mystr,'crazy_strings')\n",
    "print(dfx.count())\n",
    "dfx.show()\n",
    "\n",
    "# [StructField(str,StringType,true)]\n",
    "# ['str']"
   ]
  },
  {
   "cell_type": "markdown",
   "metadata": {},
   "source": [
    "#### with an array and a string"
   ]
  },
  {
   "cell_type": "code",
   "execution_count": 17,
   "metadata": {},
   "outputs": [
    {
     "name": "stdout",
     "output_type": "stream",
     "text": [
      "31\n",
      "+--------+\n",
      "|integers|\n",
      "+--------+\n",
      "|     0.0|\n",
      "|     1.0|\n",
      "|     2.0|\n",
      "|     3.0|\n",
      "|     4.0|\n",
      "|     5.0|\n",
      "|     6.0|\n",
      "|     7.0|\n",
      "|     8.0|\n",
      "|     9.0|\n",
      "|    10.0|\n",
      "|    11.0|\n",
      "|    12.0|\n",
      "|    13.0|\n",
      "|    14.0|\n",
      "|    15.0|\n",
      "|    16.0|\n",
      "|    17.0|\n",
      "|    18.0|\n",
      "|    19.0|\n",
      "+--------+\n",
      "only showing top 20 rows\n",
      "\n"
     ]
    }
   ],
   "source": [
    "dfx = x.arrays_to_dataframe(np.linspace(0,30,31),'integers')\n",
    "print(dfx.count())\n",
    "dfx.show()\n",
    "\n",
    "# [StructField(str,StringType,true)]\n",
    "# ['str']"
   ]
  },
  {
   "cell_type": "markdown",
   "metadata": {},
   "source": [
    "#### with 1 array, no names"
   ]
  },
  {
   "cell_type": "code",
   "execution_count": 18,
   "metadata": {},
   "outputs": [
    {
     "name": "stdout",
     "output_type": "stream",
     "text": [
      "12\n",
      "+--------+\n",
      "|     str|\n",
      "+--------+\n",
      "|ocarqqsz|\n",
      "|owyuddnz|\n",
      "|xfsvhitx|\n",
      "|rqlryonj|\n",
      "|yeocttnz|\n",
      "|mdukeybu|\n",
      "|mgoznubv|\n",
      "|jenkdvaw|\n",
      "|pvpcegfj|\n",
      "|kvftnzyf|\n",
      "|xbqtnnfg|\n",
      "|hkgvuqzd|\n",
      "+--------+\n",
      "\n"
     ]
    }
   ],
   "source": [
    "dfx = x.arrays_to_dataframe(mystr)\n",
    "print(dfx.count())\n",
    "dfx.show()\n",
    "\n",
    "# [StructField(str,StringType,true)]\n",
    "# ['str']"
   ]
  },
  {
   "cell_type": "markdown",
   "metadata": {},
   "source": [
    "#### with 3 arrays, no names"
   ]
  },
  {
   "cell_type": "code",
   "execution_count": 19,
   "metadata": {},
   "outputs": [
    {
     "name": "stdout",
     "output_type": "stream",
     "text": [
      "<bound method DataFrame.count of DataFrame[str: string, int32: bigint, float64: double]>\n",
      "+--------+-----+------------------+\n",
      "|     str|int32|           float64|\n",
      "+--------+-----+------------------+\n",
      "|ocarqqsz|    3|10.023798425839649|\n",
      "|owyuddnz|    4| 10.09148805591603|\n",
      "|xfsvhitx|    3|10.050804462840949|\n",
      "|rqlryonj|    4|10.090752649138928|\n",
      "|yeocttnz|    4|10.077508684219394|\n",
      "|mdukeybu|    0|10.028490909150785|\n",
      "|mgoznubv|    3|10.000315727494556|\n",
      "|jenkdvaw|    0|10.031182252646053|\n",
      "|pvpcegfj|    2|10.059122323821452|\n",
      "|kvftnzyf|    4|10.046543963714782|\n",
      "|xbqtnnfg|    1|10.083714785676403|\n",
      "|hkgvuqzd|    1|10.044133928136418|\n",
      "+--------+-----+------------------+\n",
      "\n"
     ]
    }
   ],
   "source": [
    "dfx = x.arrays_to_dataframe([mystr,myint,mydoub])\n",
    "print(dfx.count)\n",
    "dfx.show()\n",
    "\n",
    "# [StructField(str,StringType,true)]\n",
    "# ['str']"
   ]
  },
  {
   "cell_type": "code",
   "execution_count": null,
   "metadata": {
    "collapsed": true
   },
   "outputs": [],
   "source": []
  },
  {
   "cell_type": "code",
   "execution_count": null,
   "metadata": {
    "collapsed": true
   },
   "outputs": [],
   "source": []
  },
  {
   "cell_type": "code",
   "execution_count": null,
   "metadata": {
    "collapsed": true
   },
   "outputs": [],
   "source": []
  },
  {
   "cell_type": "code",
   "execution_count": 20,
   "metadata": {
    "scrolled": true
   },
   "outputs": [
    {
     "name": "stdout",
     "output_type": "stream",
     "text": [
      "+---------+\n",
      "|millenium|\n",
      "+---------+\n",
      "|      0.0|\n",
      "|      1.0|\n",
      "|      2.0|\n",
      "|      3.0|\n",
      "|      4.0|\n",
      "|      5.0|\n",
      "|      6.0|\n",
      "|      7.0|\n",
      "|      8.0|\n",
      "|      9.0|\n",
      "|     10.0|\n",
      "|     11.0|\n",
      "|     12.0|\n",
      "|     13.0|\n",
      "|     14.0|\n",
      "|     15.0|\n",
      "|     16.0|\n",
      "|     17.0|\n",
      "|     18.0|\n",
      "|     19.0|\n",
      "+---------+\n",
      "only showing top 20 rows\n",
      "\n"
     ]
    }
   ],
   "source": [
    "df1000 = DataFrameBuild(ctx.spark).arrays_to_dataframe([np.linspace(0,1000,1001)],[\"millenium\"])\n",
    "df1000.show()"
   ]
  },
  {
   "cell_type": "code",
   "execution_count": 21,
   "metadata": {
    "collapsed": true
   },
   "outputs": [],
   "source": [
    "fruit = [\"apple\",\"orange\",\"banana\",\"grape\",\"melon\",\"pineapple\",\"kiwi\",\"lemon\",\"lime\"]"
   ]
  },
  {
   "cell_type": "code",
   "execution_count": 22,
   "metadata": {
    "collapsed": true
   },
   "outputs": [],
   "source": [
    "df_fruit = x.spark.createDataFrame(fruit,StringType()).toDF(\"fruit\")"
   ]
  },
  {
   "cell_type": "code",
   "execution_count": 23,
   "metadata": {},
   "outputs": [
    {
     "name": "stdout",
     "output_type": "stream",
     "text": [
      "+---------+\n",
      "|    fruit|\n",
      "+---------+\n",
      "|    apple|\n",
      "|   orange|\n",
      "|   banana|\n",
      "|    grape|\n",
      "|    melon|\n",
      "|pineapple|\n",
      "|     kiwi|\n",
      "|    lemon|\n",
      "|     lime|\n",
      "+---------+\n",
      "\n"
     ]
    }
   ],
   "source": [
    "df_fruit.show()"
   ]
  },
  {
   "cell_type": "code",
   "execution_count": 24,
   "metadata": {
    "collapsed": true
   },
   "outputs": [],
   "source": [
    "def get_string_fields(lst):\n",
    "    n = len(lst)\n",
    "    fields = [StructField(x,StringType(),True) for x in lst]\n",
    "    return fields\n",
    "\n",
    "fields_fruit = get_string_fields(fruit)\n",
    "# df = x.spark.createDataFrame(fruit,fields_fruit)"
   ]
  },
  {
   "cell_type": "markdown",
   "metadata": {},
   "source": [
    "### Example 1."
   ]
  },
  {
   "cell_type": "code",
   "execution_count": 25,
   "metadata": {
    "scrolled": true
   },
   "outputs": [
    {
     "name": "stdout",
     "output_type": "stream",
     "text": [
      "['apple', 'orange', 'banana', 'grape', 'melon', 'pineapple', 'kiwi', 'lemon', 'lime'] <class 'list'>\n",
      "9\n"
     ]
    }
   ],
   "source": [
    "X = DataFrameBuild(ctx.spark)\n",
    "print(fruit,type(fruit))\n",
    "print(len(fruit))\n",
    "\n",
    "df_fruit = X.arrays_to_dataframe([fruit,fruit],[\"fruit1\",\"fruit2\"])"
   ]
  },
  {
   "cell_type": "code",
   "execution_count": 26,
   "metadata": {},
   "outputs": [
    {
     "ename": "NameError",
     "evalue": "name 'df_num_fruit' is not defined",
     "output_type": "error",
     "traceback": [
      "\u001b[1;31m---------------------------------------------------------------------------\u001b[0m",
      "\u001b[1;31mNameError\u001b[0m                                 Traceback (most recent call last)",
      "\u001b[1;32m<ipython-input-26-431cb494e615>\u001b[0m in \u001b[0;36m<module>\u001b[1;34m()\u001b[0m\n\u001b[1;32m----> 1\u001b[1;33m \u001b[0mprint\u001b[0m\u001b[1;33m(\u001b[0m\u001b[0mdf_num_fruit\u001b[0m\u001b[1;33m.\u001b[0m\u001b[0mcolumns\u001b[0m\u001b[1;33m)\u001b[0m\u001b[1;33m\u001b[0m\u001b[0m\n\u001b[0m\u001b[0;32m      2\u001b[0m \u001b[0mprint\u001b[0m\u001b[1;33m(\u001b[0m\u001b[0mdf_fruit\u001b[0m\u001b[1;33m.\u001b[0m\u001b[0mcolumns\u001b[0m\u001b[1;33m)\u001b[0m\u001b[1;33m\u001b[0m\u001b[0m\n\u001b[0;32m      3\u001b[0m \u001b[0mprint\u001b[0m\u001b[1;33m(\u001b[0m\u001b[0mdf_random_num\u001b[0m\u001b[1;33m.\u001b[0m\u001b[0mcolumns\u001b[0m\u001b[1;33m)\u001b[0m\u001b[1;33m\u001b[0m\u001b[0m\n",
      "\u001b[1;31mNameError\u001b[0m: name 'df_num_fruit' is not defined"
     ]
    }
   ],
   "source": [
    "print(df_num_fruit.columns)\n",
    "print(df_fruit.columns)\n",
    "print(df_random_num.columns)"
   ]
  },
  {
   "cell_type": "code",
   "execution_count": null,
   "metadata": {
    "collapsed": true
   },
   "outputs": [],
   "source": [
    "print(df_num_fruit.count())\n",
    "print(df_fruit.count())\n",
    "print(df_random_num.count())"
   ]
  },
  {
   "cell_type": "code",
   "execution_count": null,
   "metadata": {
    "collapsed": true
   },
   "outputs": [],
   "source": [
    "df_f2 = df_num_fruit.unionAll(df_fruit)\n",
    "# unionAll appends 2nd dataframe to the end of the 1st\n",
    "# Vertical Join"
   ]
  },
  {
   "cell_type": "code",
   "execution_count": null,
   "metadata": {
    "collapsed": true,
    "scrolled": true
   },
   "outputs": [],
   "source": [
    "df_f2.show()"
   ]
  },
  {
   "cell_type": "code",
   "execution_count": null,
   "metadata": {
    "collapsed": true
   },
   "outputs": [],
   "source": [
    "df_com = df_num_fruit.join(df_fruit,df_num_fruit['Index'] != df_fruit[\"fruit\"],\"outer\")\n",
    "\n",
    "# horizontal join, but non inner.."
   ]
  },
  {
   "cell_type": "code",
   "execution_count": null,
   "metadata": {
    "collapsed": true,
    "scrolled": true
   },
   "outputs": [],
   "source": [
    "df_com.show()"
   ]
  },
  {
   "cell_type": "code",
   "execution_count": null,
   "metadata": {
    "collapsed": true
   },
   "outputs": [],
   "source": [
    "x = DataFrameBuild(ctx.spark)\n",
    "df_multi = x.df_multidimensional(4,3,[('name','string',6),\n",
    "                                      ('address','integer',(1000,9999)),\n",
    "                                      ('portion','double',(0.0,1.0))])"
   ]
  },
  {
   "cell_type": "code",
   "execution_count": null,
   "metadata": {
    "collapsed": true
   },
   "outputs": [],
   "source": [
    "df_multi.show()"
   ]
  },
  {
   "cell_type": "markdown",
   "metadata": {
    "collapsed": true
   },
   "source": [
    "### Example 2. Another random, multidimensional dataframe"
   ]
  },
  {
   "cell_type": "code",
   "execution_count": null,
   "metadata": {
    "collapsed": true
   },
   "outputs": [],
   "source": [
    "x = DataFrameBuild(ctx.spark)\n",
    "df_multi6 = x.df_multidimensional(500,6,[('user','string',6),\n",
    "                                         ('id','integer',(1,10000)),\n",
    "                                         ('password','string2',13),\n",
    "                                         ('address','integer',(1000,9999)),\n",
    "                                         ('decimal','double',(0.0,1.0)),\n",
    "                                         ('worth','double',(0.0,10000000))])"
   ]
  },
  {
   "cell_type": "code",
   "execution_count": null,
   "metadata": {
    "collapsed": true,
    "scrolled": true
   },
   "outputs": [],
   "source": [
    "df_multi6.show()"
   ]
  },
  {
   "cell_type": "markdown",
   "metadata": {},
   "source": [
    "### Example 3. build_array --> to DataFrame"
   ]
  },
  {
   "cell_type": "code",
   "execution_count": null,
   "metadata": {
    "collapsed": true
   },
   "outputs": [],
   "source": [
    "x = DataFrameBuild(ctx.spark)"
   ]
  },
  {
   "cell_type": "code",
   "execution_count": null,
   "metadata": {
    "collapsed": true
   },
   "outputs": [],
   "source": [
    "print(x.build_array.__doc__)"
   ]
  },
  {
   "cell_type": "code",
   "execution_count": null,
   "metadata": {
    "collapsed": true
   },
   "outputs": [],
   "source": [
    "mystr = x.build_array(\"string\",num=12,width=8) \n",
    "myint = x.build_array(\"integer\",num=12,nrange=(0,4))    # inclusive on range\n",
    "mydoub = x.build_array(\"double\",num=12,nrange=(10,10.1))\n",
    "\n",
    "print(len(mystr),mystr)\n",
    "print(len(myint),myint)\n",
    "print(len(mydoub),mydoub)"
   ]
  },
  {
   "cell_type": "code",
   "execution_count": null,
   "metadata": {
    "collapsed": true
   },
   "outputs": [],
   "source": [
    "# list of arrays .. pass into function, tell function to get type, zip.\n",
    "x = DataFrameBuild(ctx.spark)\n",
    "\n",
    "lst_names = [\"passwords\",\"quarter\",\"tens\"]\n",
    "lst = [mystr,myint,mydoub]\n",
    "\n",
    "df = x.df_from_arrays(lst,lst_names)"
   ]
  },
  {
   "cell_type": "code",
   "execution_count": null,
   "metadata": {
    "collapsed": true
   },
   "outputs": [],
   "source": [
    "df.show()"
   ]
  },
  {
   "cell_type": "markdown",
   "metadata": {},
   "source": [
    "### Example 4. Choose array type, get DataFrame"
   ]
  },
  {
   "cell_type": "code",
   "execution_count": null,
   "metadata": {
    "collapsed": true
   },
   "outputs": [],
   "source": [
    "x = DataFrameBuild(ctx.spark)\n",
    "num = 500\n",
    "df4 = x.arrays_to_dataframe([x.build_array(\"string\",num=num,width=8),\n",
    "                        x.build_array(\"integer\",num=num,nrange=(1,4)),\n",
    "                        x.build_array(\"integer\",num=num,nrange=(1,12)),\n",
    "                        x.build_array(\"double\",num=num,nrange=(0.0,10000))],\n",
    "                      ['passwords','quarter','month','price'])"
   ]
  },
  {
   "cell_type": "code",
   "execution_count": null,
   "metadata": {
    "collapsed": true
   },
   "outputs": [],
   "source": [
    "df4.limit(20).toPandas()"
   ]
  },
  {
   "cell_type": "markdown",
   "metadata": {
    "collapsed": true
   },
   "source": [
    "# Build some arrays, put them into a DataFrame"
   ]
  },
  {
   "cell_type": "code",
   "execution_count": null,
   "metadata": {
    "collapsed": true
   },
   "outputs": [],
   "source": [
    "x = DataFrameBuild(ctx.spark)\n",
    "num = 500\n",
    "df4 = x.arrays_to_dataframe([[int(x) for x in np.linspace(1,num,num)],\n",
    "                             x.build_array(\"string\",num=num,width=8),\n",
    "                             x.build_array(\"integer\",num=num,nrange=(1,4)),\n",
    "                             x.build_array(\"integer\",num=num,nrange=(1,12)),\n",
    "                             x.build_array(\"double\",num=num,nrange=(0.0,10000))],\n",
    "                             ['index','passwords','quarter','month','price'])"
   ]
  },
  {
   "cell_type": "code",
   "execution_count": null,
   "metadata": {
    "collapsed": true
   },
   "outputs": [],
   "source": [
    "df4.show()"
   ]
  },
  {
   "cell_type": "code",
   "execution_count": null,
   "metadata": {
    "collapsed": true
   },
   "outputs": [],
   "source": [
    "df4.orderBy(\"index\").show()"
   ]
  },
  {
   "cell_type": "code",
   "execution_count": null,
   "metadata": {
    "collapsed": true
   },
   "outputs": [],
   "source": [
    "df4.select(\"index\").distinct().count()"
   ]
  },
  {
   "cell_type": "code",
   "execution_count": null,
   "metadata": {
    "collapsed": true
   },
   "outputs": [],
   "source": []
  }
 ],
 "metadata": {
  "kernelspec": {
   "display_name": "Python 3",
   "language": "python",
   "name": "python3"
  },
  "language_info": {
   "codemirror_mode": {
    "name": "ipython",
    "version": 3
   },
   "file_extension": ".py",
   "mimetype": "text/x-python",
   "name": "python",
   "nbconvert_exporter": "python",
   "pygments_lexer": "ipython3",
   "version": "3.6.1"
  }
 },
 "nbformat": 4,
 "nbformat_minor": 2
}
