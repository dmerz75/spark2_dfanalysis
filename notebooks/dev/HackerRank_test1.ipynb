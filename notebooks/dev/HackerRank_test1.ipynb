{
 "cells": [
  {
   "cell_type": "code",
   "execution_count": 6,
   "metadata": {},
   "outputs": [
    {
     "name": "stdout",
     "output_type": "stream",
     "text": [
      " Python Version:  3.6.8 |Anaconda, Inc.| (default, Feb 21 2019, 18:30:04) [MSC v.1916 64 bit (AMD64)]\n",
      "    Python Path:  C:\\ProgramData\\Anaconda3\\envs\\py36\n"
     ]
    }
   ],
   "source": [
    "# My Standard Spark Session!\n",
    "\n",
    "# Python libraries:\n",
    "import os\n",
    "import sys\n",
    "import re\n",
    "import math\n",
    "import random\n",
    "from dateutil import parser\n",
    "# import datetime\n",
    "from datetime import datetime\n",
    "from datetime import date\n",
    "import builtins\n",
    "import json\n",
    "import functools\n",
    "import operator\n",
    "from itertools import product\n",
    "\n",
    "\n",
    "print(\"%16s  %s\" % (\"Python Version:\",sys.version))\n",
    "print(\"%16s  %s\" % (\"Python Path:\",os.path.dirname(sys.executable)))"
   ]
  },
  {
   "cell_type": "code",
   "execution_count": 2,
   "metadata": {},
   "outputs": [],
   "source": [
    "# Numpy & Pandas!\n",
    "import numpy as np\n",
    "import pandas as pd\n",
    "pd.options.display.float_format = '{:20,.2f}'.format\n",
    "pd.options.display.max_columns = None\n",
    "\n",
    "# Spark!\n",
    "from pyspark import SparkContext\n",
    "from pyspark.sql.functions import *\n",
    "from pyspark.sql.types import *\n",
    "from pyspark.sql.window import *\n",
    "from pyspark.sql import SparkSession, Row\n",
    "\n",
    "\n",
    "spark = SparkSession.builder.appName(\"myapp42\").getOrCreate()\n",
    "\n",
    "#     spark = SparkSession.builder.master(\"yarn\")\\\n",
    "#     .config(\"spark.executor.instances\", \"32\")\\\n",
    "#     .config(\"spark.executor.cores\", \"4\")\\\n",
    "#     .config(\"spark.executor.memory\", \"4G\")\\\n",
    "#     .config(\"spark.driver.memory\", \"4G\")\\\n",
    "#     .config(\"spark.executor.memoryOverhead\",\"4G\")\\\n",
    "#     .config(\"spark.yarn.queue\",\"Medium\")\\\n",
    "#     .appName(\"myapp\")\\\n",
    "#     .getOrCreate()\n",
    "\n",
    "sc = spark.sparkContext\n",
    "spark.conf.set(\"spark.sql.sources.partitionColumnTypeInference.enabled\", \"false\")\n",
    "spark.conf.set(\"spark.debug.maxToStringFields\",\"true\")"
   ]
  },
  {
   "cell_type": "code",
   "execution_count": 3,
   "metadata": {},
   "outputs": [
    {
     "name": "stdout",
     "output_type": "stream",
     "text": [
      "The autoreload extension is already loaded. To reload it, use:\n",
      "  %reload_ext autoreload\n",
      " My Python Libs:  C:\\Users\\MerzDal/.myconfigs\n",
      "   My Spark Dir:  C:\\Users\\MerzDal/spark2_dfanalysis\n",
      "   My Spark Ctx:  <pyspark.sql.session.SparkSession object at 0x00000246EE894FD0>\n"
     ]
    }
   ],
   "source": [
    "%load_ext autoreload\n",
    "%autoreload 2\n",
    "# The autoreload extension is already loaded. To reload it, use:\n",
    "#  %reload_ext autoreload\n",
    "\n",
    "\n",
    "# mylib:\n",
    "my_library = os.path.expanduser('~/.myconfigs')\n",
    "my_spark = os.path.expanduser('~/spark2_dfanalysis')\n",
    "sys.path.append(my_library)\n",
    "sys.path.append(my_spark)\n",
    "\n",
    "\n",
    "from shared.app_context import *\n",
    "from builder.DataFrameBuild import *\n",
    "\n",
    "ctx = ApplicationContext(\"Dev-Job\")\n",
    "\n",
    "DFB = DataFrameBuild(ctx.spark)\n",
    "\n",
    "print(\"%16s  %s\" % (\"My Python Libs:\",my_library))\n",
    "print(\"%16s  %s\" % (\"My Spark Dir:\",my_spark))\n",
    "print(\"%16s  %s\" % (\"My Spark Ctx:\",ctx.spark))\n",
    "# print(ctx.spark)\n",
    "# print(os.listdir(my_spark))\n",
    "# print(sys.path)\n",
    "# print(\"\\n\")"
   ]
  },
  {
   "cell_type": "code",
   "execution_count": 4,
   "metadata": {},
   "outputs": [],
   "source": [
    "# Standard lists:\n",
    "lst_dates = sorted([str(x) for x in range(1980,2021,1)],reverse=True)\n",
    "lst_6 = list([int(x) for x in np.linspace(0,5,6)])"
   ]
  },
  {
   "cell_type": "code",
   "execution_count": 5,
   "metadata": {},
   "outputs": [
    {
     "name": "stdout",
     "output_type": "stream",
     "text": [
      "Dates:\n",
      " ['2020', '2019', '2018', '2017', '2016', '2015', '2014', '2013', '2012', '2011', '2010', '2009', '2008', '2007', '2006', '2005', '2004', '2003', '2002', '2001', '2000', '1999', '1998', '1997', '1996', '1995', '1994', '1993', '1992', '1991', '1990', '1989', '1988', '1987', '1986', '1985', '1984', '1983', '1982', '1981', '1980']\n",
      "\n",
      "lst_6:\n",
      " [0, 1, 2, 3, 4, 5]\n"
     ]
    }
   ],
   "source": [
    "print(\"Dates:\\n\",lst_dates)\n",
    "print(\"\\nlst_6:\\n\",lst_6)"
   ]
  },
  {
   "cell_type": "code",
   "execution_count": 118,
   "metadata": {},
   "outputs": [],
   "source": [
    "content = {\n",
    "  \"page\": \"1\",\n",
    "  \"per_page\": 10,\n",
    "  \"total\": 13,\n",
    "  \"total_pages\": 2,\n",
    "  \"data\": [\n",
    "    {\n",
    "      \"Title\": \"Italian Spiderman\",\n",
    "      \"Year\": 2007,\n",
    "      \"imdbID\": \"tt2705436\"\n",
    "    },\n",
    "    {\n",
    "      \"Title\": \"Superman, Spiderman or Batman\",\n",
    "      \"Year\": 2011,\n",
    "      \"imdbID\": \"tt2084949\"\n",
    "    },\n",
    "    {\n",
    "      \"Title\": \"Spiderman\",\n",
    "      \"Year\": 1990,\n",
    "      \"imdbID\": \"tt0100669\"\n",
    "    },\n",
    "    {\n",
    "      \"Title\": \"Spiderman\",\n",
    "      \"Year\": 2010,\n",
    "      \"imdbID\": \"tt1785572\"\n",
    "    },\n",
    "    {\n",
    "      \"Title\": \"Fighting, Flying and Driving: The Stunts of Spiderman 3\",\n",
    "      \"Year\": 2007,\n",
    "      \"imdbID\": \"tt1132238\"\n",
    "    },\n",
    "    {\n",
    "      \"Title\": \"Spiderman and Grandma\",\n",
    "      \"Year\": 2009,\n",
    "      \"imdbID\": \"tt1433184\"\n",
    "    },\n",
    "    {\n",
    "      \"Title\": \"The Amazing Spiderman T4 Premiere Special\",\n",
    "      \"Year\": 2012,\n",
    "      \"imdbID\": \"tt2233044\"\n",
    "    },\n",
    "    {\n",
    "      \"Title\": \"Amazing Spiderman Syndrome\",\n",
    "      \"Year\": 2012,\n",
    "      \"imdbID\": \"tt2586634\"\n",
    "    },\n",
    "    {\n",
    "      \"Title\": \"Hollywood's Master Storytellers: Spiderman Live\",\n",
    "      \"Year\": 2006,\n",
    "      \"imdbID\": \"tt2158533\"\n",
    "    },\n",
    "    {\n",
    "      \"Title\": \"Spiderman 5\",\n",
    "      \"Year\": 2008,\n",
    "      \"imdbID\": \"tt3696826\"\n",
    "    }\n",
    "  ]\n",
    "}"
   ]
  },
  {
   "cell_type": "code",
   "execution_count": 119,
   "metadata": {},
   "outputs": [
    {
     "name": "stdout",
     "output_type": "stream",
     "text": [
      "{'page': '1', 'per_page': 10, 'total': 13, 'total_pages': 2, 'data': [{'Title': 'Italian Spiderman', 'Year': 2007, 'imdbID': 'tt2705436'}, {'Title': 'Superman, Spiderman or Batman', 'Year': 2011, 'imdbID': 'tt2084949'}, {'Title': 'Spiderman', 'Year': 1990, 'imdbID': 'tt0100669'}, {'Title': 'Spiderman', 'Year': 2010, 'imdbID': 'tt1785572'}, {'Title': 'Fighting, Flying and Driving: The Stunts of Spiderman 3', 'Year': 2007, 'imdbID': 'tt1132238'}, {'Title': 'Spiderman and Grandma', 'Year': 2009, 'imdbID': 'tt1433184'}, {'Title': 'The Amazing Spiderman T4 Premiere Special', 'Year': 2012, 'imdbID': 'tt2233044'}, {'Title': 'Amazing Spiderman Syndrome', 'Year': 2012, 'imdbID': 'tt2586634'}, {'Title': \"Hollywood's Master Storytellers: Spiderman Live\", 'Year': 2006, 'imdbID': 'tt2158533'}, {'Title': 'Spiderman 5', 'Year': 2008, 'imdbID': 'tt3696826'}]}\n"
     ]
    }
   ],
   "source": [
    "print(content)"
   ]
  },
  {
   "cell_type": "markdown",
   "metadata": {},
   "source": [
    "## Input:"
   ]
  },
  {
   "cell_type": "code",
   "execution_count": 117,
   "metadata": {
    "scrolled": false
   },
   "outputs": [
    {
     "name": "stdout",
     "output_type": "stream",
     "text": [
      "asa\n",
      "a*t\n",
      "z: 1\n",
      "SX:  a_a a_t\n",
      "ama\n",
      "a*t\n",
      "z: 1\n",
      "SX:  a_a a_t\n",
      "ant\n",
      "a*t\n",
      "z: 1\n",
      "SX:  a_t a_t\n",
      "8\n"
     ]
    }
   ],
   "source": [
    "if __name__ == '__main__':\n",
    "#     fptr = open(os.environ['OUTPUT_PATH'], 'w')\n",
    "\n",
    "#     arr = []\n",
    "\n",
    "#     for _ in range(6):\n",
    "#         arr.append(list(map(int, input().rstrip().split())))\n",
    "\n",
    "#     result = myfunc(arr)\n",
    "\n",
    "#     fptr.write(str(result) + '\\n')\n",
    "\n",
    "#     fptr.close()\n",
    "\n",
    "    # max\n",
    "    s = \"juliasamanthasamanthajulia\"\n",
    "    x = \"a*t\"\n",
    "    result = myfunc(s, x)\n",
    "    print(result)"
   ]
  },
  {
   "cell_type": "code",
   "execution_count": 116,
   "metadata": {},
   "outputs": [],
   "source": [
    "# Complete the function below.\n",
    "def get_top():\n",
    "    pass\n",
    "\n",
    "def check_match(s, x):\n",
    "    print(s)\n",
    "    print(x)\n",
    "    \n",
    "    if \"*\" in x:\n",
    "        z = x.find(\"*\")\n",
    "        print(\"z:\", z)\n",
    "        \n",
    "        if((z < 0) or (z > len(x))):\n",
    "            pass\n",
    "        else:\n",
    "            s = s.replace(s[z], \"_\")\n",
    "            x = x.replace(\"*\", \"_\")\n",
    "            print(\"SX: \", s, x)\n",
    "    \n",
    "    if s == x:\n",
    "        return True\n",
    "    else:\n",
    "        return False\n",
    "    pass\n",
    "\n",
    "\n",
    "\n",
    "def myfunc(s, x):\n",
    "\n",
    "    #print(s, x)\n",
    "    for i in range(len(s)):\n",
    "        if x[0] == s[i]:\n",
    "            boo = check_match(s[i:i+len(x)], x)\n",
    "            if(boo):\n",
    "                return i\n",
    "            \n",
    "    return -1"
   ]
  },
  {
   "cell_type": "code",
   "execution_count": null,
   "metadata": {},
   "outputs": [],
   "source": []
  },
  {
   "cell_type": "code",
   "execution_count": null,
   "metadata": {
    "collapsed": true
   },
   "outputs": [],
   "source": []
  }
 ],
 "metadata": {
  "kernelspec": {
   "display_name": "Python 3",
   "language": "python",
   "name": "python3"
  },
  "language_info": {
   "codemirror_mode": {
    "name": "ipython",
    "version": 3
   },
   "file_extension": ".py",
   "mimetype": "text/x-python",
   "name": "python",
   "nbconvert_exporter": "python",
   "pygments_lexer": "ipython3",
   "version": "3.7.4"
  }
 },
 "nbformat": 4,
 "nbformat_minor": 2
}
