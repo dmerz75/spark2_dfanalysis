{
 "cells": [
  {
   "cell_type": "code",
   "execution_count": 3,
   "metadata": {},
   "outputs": [
    {
     "data": {
      "text/html": [
       "<style>\n",
       "\n",
       ".c1 {\n",
       "    font-size: 1.5em;\n",
       "    font-family: \"Consolas\", \"Lucida Console\";\n",
       "    color: Lime;\n",
       "    /* LawnGreen; */\n",
       "    padding: 0.5em;\n",
       "    background: Black;\n",
       "    border-width: 0.25em;\n",
       "    border-style: solid;\n",
       "    border-color: DodgerBlue;\n",
       "    border-radius: 0.4em;\n",
       "    text-align: center;\n",
       "}\n",
       "\n",
       ".c2 {\n",
       "    font-size: 100%\n",
       "    color: #08FF00;\n",
       "    background: #151515;\n",
       "    /* background: #330033; */\n",
       "    border: thin solid #333;\n",
       "    border-radius: 5px;\n",
       "    text-align: center;\n",
       "    text-transform: none;\n",
       "}\n",
       "\n",
       ".c3 {\n",
       "    font: 3em Verdana, Geneva, sans-serif;\n",
       "    text-transform: none;\n",
       "    color: #08FF00;\n",
       "    background: #FFF;\n",
       "    border: thin solid #333;\n",
       "}\n",
       "\n",
       "\n",
       ".jek2 {\n",
       "    /* your styles for the class version-two */\n",
       "    font-size: 3em;\n",
       "    color: blue;\n",
       "}\n",
       "\n",
       "</style>\n"
      ],
      "text/plain": [
       "<IPython.core.display.HTML object>"
      ]
     },
     "execution_count": 3,
     "metadata": {},
     "output_type": "execute_result"
    }
   ],
   "source": [
    "from IPython.display import HTML\n",
    "\n",
    "def load_css(filepath):\n",
    "    with open(filepath,\"r\") as fp:\n",
    "        css_text = fp.read()\n",
    "    return HTML(css_text) \n",
    "\n",
    "load_css(\"../../css/styles.css\")"
   ]
  },
  {
   "cell_type": "markdown",
   "metadata": {},
   "source": [
    "<h1 class=\"c1\"> Open Notebook!</h1>"
   ]
  },
  {
   "cell_type": "code",
   "execution_count": 7,
   "metadata": {},
   "outputs": [
    {
     "name": "stdout",
     "output_type": "stream",
     "text": [
      "Hello\n"
     ]
    }
   ],
   "source": [
    "print(\"Hello\")"
   ]
  },
  {
   "cell_type": "code",
   "execution_count": 1,
   "metadata": {},
   "outputs": [
    {
     "data": {
      "text/html": [
       "<style>\n",
       "\n",
       ".c1 {\n",
       "    font-size: 1.5em;\n",
       "    font-family: \"Consolas\", \"Lucida Console\";\n",
       "    color: Lime;\n",
       "    /* LawnGreen; */\n",
       "    padding: 0.5em;\n",
       "    background: Black;\n",
       "    border-width: 0.25em;\n",
       "    border-style: solid;\n",
       "    border-color: DodgerBlue;\n",
       "    border-radius: 0.4em;\n",
       "    text-align: center;\n",
       "}\n",
       "\n",
       ".c2 {\n",
       "    font-size: 100%\n",
       "    color: #08FF00;\n",
       "    background: #151515;\n",
       "    /* background: #330033; */\n",
       "    border: thin solid #333;\n",
       "    border-radius: 5px;\n",
       "    text-align: center;\n",
       "    text-transform: none;\n",
       "}\n",
       "\n",
       ".c3 {\n",
       "    font: 3em Verdana, Geneva, sans-serif;\n",
       "    text-transform: none;\n",
       "    color: #08FF00;\n",
       "    background: #FFF;\n",
       "    border: thin solid #333;\n",
       "}\n",
       "\n",
       "\n",
       ".jek2 {\n",
       "    /* your styles for the class version-two */\n",
       "    font-size: 3em;\n",
       "    color: blue;\n",
       "}\n",
       "\n",
       "</style>\n"
      ],
      "text/plain": [
       "<IPython.core.display.HTML object>"
      ]
     },
     "execution_count": 1,
     "metadata": {},
     "output_type": "execute_result"
    }
   ],
   "source": [
    "#%%capture\n",
    "from IPython.display import HTML\n",
    "\n",
    "def load_css(filepath):\n",
    "    with open(filepath,\"r\") as fp:\n",
    "        css_text = fp.read()\n",
    "    return HTML(css_text) \n",
    "\n",
    "load_css(\"../../css/styles.css\")\n",
    "\n",
    "# def set_css_style(css_file_path):\n",
    "#     \"\"\"\n",
    "#     Read the custom CSS file and load it into Jupyter.\n",
    "#     Pass the file path to the CSS file.\n",
    "#     \"\"\"\n",
    "#     text = open(css_file_path,\"r\").read()\n",
    "#     #print(css_text)\n",
    "#     return HTML(text) \n",
    "\n",
    "# set_css_style(\"../../css/styles.css\")\n",
    "\n",
    "# from IPython.display import HTML"
   ]
  },
  {
   "cell_type": "markdown",
   "metadata": {},
   "source": [
    "<h1 class=\"c1\"> Html & CSS</h1>"
   ]
  },
  {
   "cell_type": "code",
   "execution_count": 7,
   "metadata": {
    "collapsed": true
   },
   "outputs": [],
   "source": [
    "%%capture\n",
    "from IPython.display import HTML\n",
    "\n",
    "def set_css_style(css_file_path):\n",
    "    \"\"\"\n",
    "    Read the custom CSS file and load it into Jupyter.\n",
    "    Pass the file path to the CSS file.\n",
    "    \"\"\"\n",
    "    with open(css_file_path,\"r\") as fh:\n",
    "        css_text = fh.read()\n",
    "    \n",
    "    HTML(css_text)\n",
    "\n",
    "    #print(css_text)\n",
    "    # return HTML(css_text) \n",
    "\n",
    "set_css_style(\"../../css/styles.css\")\n",
    "# set_css_style(\"../../css/styles.css\")\n",
    "\n",
    "\n",
    "# import urllib2\n",
    "# HTML(urllib2.urlopen('../../css/styles.css').read())\n",
    "# ModuleNotFoundError: No module named 'urllib2'\n",
    "\n",
    "# import requests\n",
    "# requests.get('https://api.github.com/user', auth=('user', 'pass'))\n",
    "# requests.get('file://~/spark2_dfanalysis/css/styles.css', auth=('user', 'pass'))"
   ]
  },
  {
   "cell_type": "code",
   "execution_count": null,
   "metadata": {
    "collapsed": true
   },
   "outputs": [],
   "source": [
    "# %%html\n",
    "# <style>\n",
    "# .jek1 {\n",
    "#     /* your styles for the class version-one */\n",
    "#     font: 3em Verdana, Geneva, sans-serif;\n",
    "#     text-transform: none;\n",
    "#     color: #08FF00;\n",
    "#     /* background: #CCF; */\n",
    "#     border: thin solid #333;\n",
    "# }\n",
    "\n",
    "# .jek2 {\n",
    "#     /* your styles for the class version-two */\n",
    "#     font-size: 3em;\n",
    "#     color: blue;\n",
    "# }\n",
    "# </style>"
   ]
  },
  {
   "cell_type": "markdown",
   "metadata": {
    "scrolled": true
   },
   "source": [
    "<h1 class=\"jek1\">My Title</h1>"
   ]
  },
  {
   "cell_type": "code",
   "execution_count": 6,
   "metadata": {},
   "outputs": [
    {
     "data": {
      "text/html": [
       "<style>\n",
       ".c1 {\n",
       "    font: 3em Verdana, Geneva, sans-serif;\n",
       "    text-transform: none;\n",
       "    color: #08FF00;\n",
       "    background: #FFF;\n",
       "    border: thin solid #333;\n",
       "}\n",
       ".c2 {\n",
       "    font: 100px Arial;\n",
       "    color: #08FF00;\n",
       "    /* background: #151515; */\n",
       "    background: #330033;\n",
       "    border-radius: 5px;\n",
       "    text-align: center;\n",
       "    /* border: thin solid #333; */\n",
       "    text-transform: none;\n",
       "}\n",
       "\n",
       ".jek2 {\n",
       "    /* your styles for the class version-two */\n",
       "    font-size: 3em;\n",
       "    color: blue;\n",
       "}\n",
       "</style>\n"
      ],
      "text/plain": [
       "<IPython.core.display.HTML object>"
      ]
     },
     "execution_count": 6,
     "metadata": {},
     "output_type": "execute_result"
    }
   ],
   "source": [
    "# %%capture\n",
    "# %%reload\n",
    "# don't forget to change the cell type to text!\n",
    "from IPython.display import HTML\n",
    "\n",
    "def run():\n",
    "    with open(\"../../css/styles.css\",\"r\") as fh:\n",
    "        css_text = fh.read()\n",
    "    return HTML(css_text) \n",
    "\n",
    "run()"
   ]
  },
  {
   "cell_type": "code",
   "execution_count": 8,
   "metadata": {},
   "outputs": [
    {
     "data": {
      "text/html": [
       "<style>\n",
       ".c1 {\n",
       "    font: 3em Verdana, Geneva, sans-serif;\n",
       "    text-transform: none;\n",
       "    color: #08FF00;\n",
       "    background: #FFF;\n",
       "    border: thin solid #333;\n",
       "}\n",
       ".c2 {\n",
       "    font: 100px Arial;\n",
       "    color: #08FF00;\n",
       "    background: #151515;\n",
       "    /* background: #330033; */\n",
       "    border-radius: 5px;\n",
       "    text-align: center;\n",
       "    /* border: thin solid #333; */\n",
       "    text-transform: none;\n",
       "}\n",
       "\n",
       ".jek2 {\n",
       "    /* your styles for the class version-two */\n",
       "    font-size: 3em;\n",
       "    color: blue;\n",
       "}\n",
       "</style>\n"
      ],
      "text/plain": [
       "<IPython.core.display.HTML object>"
      ]
     },
     "execution_count": 8,
     "metadata": {},
     "output_type": "execute_result"
    }
   ],
   "source": [
    "# %%capture\n",
    "# %%reload\n",
    "# don't forget to change the cell type to text!\n",
    "from IPython.display import HTML\n",
    "css_text = open(\"../../css/styles.css\",\"r\").read()\n",
    "HTML(css_text) "
   ]
  },
  {
   "cell_type": "markdown",
   "metadata": {},
   "source": [
    "<h1 class=\"c2\">My Title</h1>"
   ]
  },
  {
   "cell_type": "markdown",
   "metadata": {
    "scrolled": true
   },
   "source": [
    "<h1.jek1>My Title</h1>"
   ]
  },
  {
   "cell_type": "code",
   "execution_count": null,
   "metadata": {
    "collapsed": true
   },
   "outputs": [],
   "source": [
    "# My Standard Spark Session!\n",
    "\n",
    "# Python libraries:\n",
    "import os\n",
    "import sys\n",
    "import re\n",
    "from dateutil import parser\n",
    "# import datetime\n",
    "from datetime import datetime\n",
    "from datetime import date\n",
    "import builtins\n",
    "import json\n",
    "import functools\n",
    "import operator\n",
    "from itertools import product\n",
    "\n",
    "# Numpy & Pandas!\n",
    "import numpy as np\n",
    "import pandas as pd\n",
    "pd.options.display.float_format = '{:20,.2f}'.format\n",
    "pd.options.display.max_columns = None\n",
    "pd.options.display.max_colwidth = 80\n",
    "#('display.max_colwidth', 80)\n",
    "\n",
    "\n",
    "# Spark!\n",
    "from pyspark import SparkContext\n",
    "from pyspark.sql.functions import *\n",
    "from pyspark.sql.types import *\n",
    "from pyspark.sql.window import *\n",
    "from pyspark.sql import SparkSession, Row\n",
    "\n",
    "\n",
    "spark = SparkSession.builder.appName(\"myapp\").getOrCreate()\n",
    "\n",
    "#     spark = SparkSession.builder.master(\"yarn\")\\\n",
    "#     .config(\"spark.executor.instances\", \"32\")\\\n",
    "#     .config(\"spark.executor.cores\", \"4\")\\\n",
    "#     .config(\"spark.executor.memory\", \"4G\")\\\n",
    "#     .config(\"spark.driver.memory\", \"4G\")\\\n",
    "#     .config(\"spark.executor.memoryOverhead\",\"4G\")\\\n",
    "#     .config(\"spark.yarn.queue\",\"Medium\")\\\n",
    "#     .appName(\"myapp\")\\\n",
    "#     .getOrCreate()\n",
    "\n",
    "sc = spark.sparkContext\n",
    "spark.conf.set(\"spark.sql.sources.partitionColumnTypeInference.enabled\", \"false\")\n",
    "spark.conf.set(\"spark.debug.maxToStringFields\",\"true\")"
   ]
  },
  {
   "cell_type": "code",
   "execution_count": null,
   "metadata": {
    "collapsed": true
   },
   "outputs": [],
   "source": [
    "%load_ext autoreload\n",
    "%autoreload 2\n",
    "# The autoreload extension is already loaded. To reload it, use:\n",
    "#  %reload_ext autoreload\n",
    "\n",
    "\n",
    "# mylib:\n",
    "my_library = os.path.expanduser('~/.myconfigs')\n",
    "my_spark = os.path.expanduser('~/spark2_dfanalysis')\n",
    "sys.path.append(my_library)\n",
    "sys.path.append(my_spark)\n",
    "\n",
    "\n",
    "from shared.app_context import *\n",
    "from builder.DataFrameBuild import *\n",
    "\n",
    "ctx = ApplicationContext(\"Dev-Job\")\n",
    "\n",
    "DFB = DataFrameBuild(ctx.spark)\n",
    "\n",
    "print(\"%16s  %s\" % (\"Python Version:\",sys.version))\n",
    "print(\"%16s  %s\" % (\"Python Path:\",os.path.dirname(sys.executable)))\n",
    "print(\"%16s  %s\" % (\"My Python Libs:\",my_library))\n",
    "print(\"%16s  %s\" % (\"My Spark Dir:\",my_spark))\n",
    "print(\"%16s  %s\" % (\"My Spark Ctx:\",ctx.spark))\n",
    "# print(ctx.spark)\n",
    "# print(os.listdir(my_spark))\n",
    "# print(sys.path)\n",
    "# print(\"\\n\")"
   ]
  },
  {
   "cell_type": "code",
   "execution_count": null,
   "metadata": {
    "collapsed": true
   },
   "outputs": [],
   "source": [
    "# approximately 5 years, 52 weeks, avg of 22 divisions\n",
    "5 * 52 * 22 = 5720"
   ]
  },
  {
   "cell_type": "markdown",
   "metadata": {},
   "source": [
    "<p>Here's our sample dataframe:</p>\n",
    "\n",
    "### df1: has 25000 cars sold, with a division, month, and price listed\n",
    "### df2: has the 25000 cars, with just the make\n",
    "### Let's join them, and then do some UDF's (user defined functions on them)"
   ]
  },
  {
   "cell_type": "code",
   "execution_count": null,
   "metadata": {
    "collapsed": true
   },
   "outputs": [],
   "source": [
    "num = 25000\n",
    "\n",
    "df1 = DFB.arrays_to_dataframe(\n",
    "    [[int(x) for x in np.linspace(1,num,num)],\n",
    "     DFB.build_array(\"string\",num=num,width=3),\n",
    "     DFB.build_array(\"integer\",num=num,nrange=(100,999)),\n",
    "     DFB.build_array(\"integer\",num=num,nrange=(1,12)),\n",
    "     DFB.build_array(\"integer\",num=num,nrange=(1,28)),\n",
    "     DFB.build_array(\"integer\",num=num,nrange=(2010,2019)),\n",
    "     DFB.build_array(\"integer\",num=num,nrange=(0,23)),\n",
    "     DFB.build_array(\"integer\",num=num,nrange=(0,59)),\n",
    "     DFB.build_array(\"integer\",num=num,nrange=(0,59)),\n",
    "     DFB.build_array(\"double\",num=num,nrange=(1000,100000))],\n",
    "    ['index','vin','division','month','day','year','hour','minute','second','price'])\n",
    "\n",
    "\n",
    "lst_cars = [random.choice(['Honda','Toyota','Chevy','Ford','Tesla','Volkswagon','Hyundai','Jeep']) for x in range(num)]\n",
    "\n",
    "\n",
    "df2 = DFB.arrays_to_dataframe(\n",
    "    [[int(x) for x in np.linspace(1,num,num)],\n",
    "    lst_cars],\n",
    "    ['index','make'])"
   ]
  },
  {
   "cell_type": "markdown",
   "metadata": {},
   "source": [
    "### join!"
   ]
  },
  {
   "cell_type": "code",
   "execution_count": null,
   "metadata": {
    "collapsed": true
   },
   "outputs": [],
   "source": [
    "df_sales = df1.alias(\"a\")\\\n",
    ".join(df2.alias(\"b\"),col(\"a.index\") == col(\"b.index\"),\"inner\")\\\n",
    ".drop(col(\"b.index\"))"
   ]
  },
  {
   "cell_type": "code",
   "execution_count": null,
   "metadata": {
    "collapsed": true
   },
   "outputs": [],
   "source": [
    "print(df_sales.count())"
   ]
  },
  {
   "cell_type": "code",
   "execution_count": null,
   "metadata": {
    "collapsed": true
   },
   "outputs": [],
   "source": [
    "df_sales.limit(8).toPandas()"
   ]
  },
  {
   "cell_type": "markdown",
   "metadata": {},
   "source": [
    "### Create a unique identifier column"
   ]
  },
  {
   "cell_type": "code",
   "execution_count": null,
   "metadata": {
    "collapsed": true
   },
   "outputs": [],
   "source": [
    "unique_id = [col('make'),lit('_'),col('vin'), lit('_'), col('year')]\n",
    "\n",
    "df_id = df_sales.withColumn('key',concat(*unique_id))"
   ]
  },
  {
   "cell_type": "code",
   "execution_count": null,
   "metadata": {
    "collapsed": true
   },
   "outputs": [],
   "source": [
    "df_id.limit(8).toPandas()"
   ]
  },
  {
   "cell_type": "markdown",
   "metadata": {},
   "source": [
    "### Create some Date columns\n",
    "\n",
    "#### For this, I plan to use some UDF's (user defined functions)"
   ]
  },
  {
   "cell_type": "code",
   "execution_count": null,
   "metadata": {
    "collapsed": true
   },
   "outputs": [],
   "source": [
    "# UDF's with lambdas!\n",
    "\n",
    "\n",
    "# functions:\n",
    "def leading_zeroes(x,width=2):\n",
    "    return str(x).zfill(width)\n",
    "\n",
    "def nohyphens(z):\n",
    "    return re.sub(\"-\",\"\",str(z))\n",
    "\n",
    "def date_from_str_mdY(z):\n",
    "    return datetime.strptime(z,'%m-%d-%Y')\n",
    "\n",
    "def datetime_from_str_mdY_time(z):\n",
    "    return datetime.strptime(z,'%m-%d-%Y %H:%M:%S')\n",
    "    # dt = datetime.strptime(\"21/11/06 16:30\", \"%d/%m/%y %H:%M\")\n",
    "\n",
    "\n",
    "# udf's:\n",
    "udf_leading_zeroes2 = udf(lambda z: leading_zeroes(z,2),StringType())\n",
    "udf_leading_zeroes4 = udf(lambda z: leading_zeroes(z,4),StringType())\n",
    "udf_leading_zeroes6 = udf(lambda z: leading_zeroes(z,6),StringType())\n",
    "\n",
    "# NB: the modified but dual use of \"nohyphens\"\n",
    "udf_nohyphen_str = udf(lambda z: nohyphens(z),StringType())\n",
    "udf_nohyphen_int = udf(lambda z: int(nohyphens(z)),IntegerType())\n",
    "\n",
    "# date, datetime:\n",
    "udf_date_from_str_mdY = udf(lambda z: date_from_str_mdY(z),DateType())\n",
    "udf_datetime_from_str_mdY_time = udf(lambda z: datetime_from_str_mdY_time(z),TimestampType())"
   ]
  },
  {
   "cell_type": "code",
   "execution_count": null,
   "metadata": {
    "collapsed": true
   },
   "outputs": [],
   "source": [
    "print(leading_zeroes('67',6))"
   ]
  },
  {
   "cell_type": "markdown",
   "metadata": {},
   "source": [
    "### Create a DateType with UDF"
   ]
  },
  {
   "cell_type": "markdown",
   "metadata": {},
   "source": [
    "#### All at once"
   ]
  },
  {
   "cell_type": "code",
   "execution_count": null,
   "metadata": {
    "collapsed": true
   },
   "outputs": [],
   "source": [
    "# just add date column\n",
    "\n",
    "df_finaldate = df_id\\\n",
    ".withColumn(\"month-2\",udf_leading_zeroes2(col(\"month\")))\\\n",
    ".withColumn(\"day-2\",udf_leading_zeroes2(col(\"day\")))\\\n",
    ".withColumn(\"year-4\",udf_leading_zeroes4(col(\"year\")))\\\n",
    ".withColumn(\"date-hyphen\",concat(\"month-2\",lit('-'),\"day-2\",lit('-'),\"year-4\"))\\\n",
    ".withColumn(\"date\",udf_date_from_str_mdY(col(\"date-hyphen\")))\\\n",
    ".drop(\"month-2\",\"day-2\",\"year-4\",\"date-hyphen\")"
   ]
  },
  {
   "cell_type": "code",
   "execution_count": null,
   "metadata": {
    "collapsed": true
   },
   "outputs": [],
   "source": [
    "# df_finaldate.printSchema()\n",
    "df_finaldate.limit(4).toPandas()"
   ]
  },
  {
   "cell_type": "markdown",
   "metadata": {},
   "source": [
    "#### Step by step"
   ]
  },
  {
   "cell_type": "code",
   "execution_count": null,
   "metadata": {
    "collapsed": true
   },
   "outputs": [],
   "source": [
    "# let's convert month-day-year into 08-24-2012 into a new column as a string, integer, and date\n",
    "df_dated1 = df_id\\\n",
    ".withColumn(\"month-2\",udf_leading_zeroes2(col(\"month\")))\\\n",
    ".withColumn(\"day-2\",udf_leading_zeroes2(col(\"day\")))\\\n",
    ".withColumn(\"year-4\",udf_leading_zeroes4(col(\"year\")))\\\n",
    ".withColumn(\"year-6\",udf_leading_zeroes6(col(\"year\")))"
   ]
  },
  {
   "cell_type": "code",
   "execution_count": null,
   "metadata": {
    "collapsed": true
   },
   "outputs": [],
   "source": [
    "df_dated1.limit(4).toPandas()"
   ]
  },
  {
   "cell_type": "code",
   "execution_count": null,
   "metadata": {
    "collapsed": true
   },
   "outputs": [],
   "source": [
    "df_dated2 = df_id\\\n",
    ".withColumn(\"month-2\",udf_leading_zeroes2(col(\"month\")))\\\n",
    ".withColumn(\"day-2\",udf_leading_zeroes2(col(\"day\")))\\\n",
    ".withColumn(\"year-4\",udf_leading_zeroes4(col(\"year\")))\\\n",
    ".withColumn(\"date-hyphen\",concat(\"month-2\",lit('-'),\"day-2\",lit('-'),\"year-4\"))\\\n",
    ".drop(\"month-2\",\"day-2\",\"year-4\")"
   ]
  },
  {
   "cell_type": "code",
   "execution_count": null,
   "metadata": {
    "collapsed": true
   },
   "outputs": [],
   "source": [
    "df_dated2.limit(4).toPandas()"
   ]
  },
  {
   "cell_type": "code",
   "execution_count": null,
   "metadata": {
    "collapsed": true
   },
   "outputs": [],
   "source": [
    "# let's remove the hyphens now, and get a string, or integer back\n",
    "df_nohyphen = df_dated2\\\n",
    ".withColumn(\"int-date\",udf_nohyphen_int(col(\"date-hyphen\")))\\\n",
    ".withColumn(\"str-date\",udf_nohyphen_str(col(\"date-hyphen\")))\\\n",
    ".withColumn(\"date\",udf_date_from_str_mdY(col(\"date-hyphen\")))"
   ]
  },
  {
   "cell_type": "code",
   "execution_count": null,
   "metadata": {
    "collapsed": true
   },
   "outputs": [],
   "source": [
    "df_nohyphen.printSchema()"
   ]
  },
  {
   "cell_type": "code",
   "execution_count": null,
   "metadata": {
    "collapsed": true
   },
   "outputs": [],
   "source": [
    "df_nohyphen.limit(4).toPandas()"
   ]
  },
  {
   "cell_type": "code",
   "execution_count": null,
   "metadata": {
    "collapsed": true
   },
   "outputs": [],
   "source": [
    "# let's remove the hyphens now, and get a string, or integer back\n",
    "df_date = df_dated2\\\n",
    ".withColumn(\"int-date\",udf_nohyphen_int(col(\"date-hyphen\")))\\\n",
    ".withColumn(\"str-date\",udf_nohyphen_str(col(\"date-hyphen\")))\\\n",
    ".withColumn(\"date\",udf_date_from_str_mdY(col(\"date-hyphen\")))\\\n",
    ".drop(\"int-date\",\"str-date\",\"date-hyphen\")"
   ]
  },
  {
   "cell_type": "code",
   "execution_count": null,
   "metadata": {
    "collapsed": true
   },
   "outputs": [],
   "source": [
    "df_date.limit(4).toPandas()"
   ]
  },
  {
   "cell_type": "code",
   "execution_count": null,
   "metadata": {
    "collapsed": true
   },
   "outputs": [],
   "source": [
    "df_date.printSchema()"
   ]
  },
  {
   "cell_type": "markdown",
   "metadata": {},
   "source": [
    "### Create TimestampType with UDF"
   ]
  },
  {
   "cell_type": "code",
   "execution_count": null,
   "metadata": {
    "collapsed": true
   },
   "outputs": [],
   "source": [
    "# just add timestamp column\n",
    "\n",
    "df_finaldatetime = df_id\\\n",
    ".withColumn(\"month-2\",udf_leading_zeroes2(col(\"month\")))\\\n",
    ".withColumn(\"day-2\",udf_leading_zeroes2(col(\"day\")))\\\n",
    ".withColumn(\"year-4\",udf_leading_zeroes4(col(\"year\")))\\\n",
    ".withColumn(\"hour-2\",udf_leading_zeroes2(col(\"hour\")))\\\n",
    ".withColumn(\"minute-2\",udf_leading_zeroes2(col(\"minute\")))\\\n",
    ".withColumn(\"second-2\",udf_leading_zeroes2(col(\"second\")))\\\n",
    ".withColumn(\"datetime-hyphen\",concat(\"month-2\",lit('-'),\"day-2\",lit('-'),\"year-4\",\n",
    "                                     lit(\" \"),\"hour-2\",lit(\":\"),\"minute-2\",lit(\":\"),\"second-2\"))\\\n",
    ".withColumn(\"datetime\",udf_datetime_from_str_mdY_time(col(\"datetime-hyphen\")))\\\n",
    ".drop(\"month-2\",\"day-2\",\"year-4\",\"datetime-hyphen\",\"hour-2\",\"minute-2\",\"second-2\")"
   ]
  },
  {
   "cell_type": "code",
   "execution_count": null,
   "metadata": {
    "collapsed": true
   },
   "outputs": [],
   "source": [
    "df_finaldatetime.printSchema()"
   ]
  },
  {
   "cell_type": "code",
   "execution_count": null,
   "metadata": {
    "collapsed": true
   },
   "outputs": [],
   "source": [
    "df_finaldatetime.limit(4).toPandas()"
   ]
  },
  {
   "cell_type": "code",
   "execution_count": null,
   "metadata": {
    "collapsed": true
   },
   "outputs": [],
   "source": []
  }
 ],
 "metadata": {
  "kernelspec": {
   "display_name": "Python 3",
   "language": "python",
   "name": "python3"
  },
  "language_info": {
   "codemirror_mode": {
    "name": "ipython",
    "version": 3
   },
   "file_extension": ".py",
   "mimetype": "text/x-python",
   "name": "python",
   "nbconvert_exporter": "python",
   "pygments_lexer": "ipython3",
   "version": "3.6.1"
  }
 },
 "nbformat": 4,
 "nbformat_minor": 2
}
