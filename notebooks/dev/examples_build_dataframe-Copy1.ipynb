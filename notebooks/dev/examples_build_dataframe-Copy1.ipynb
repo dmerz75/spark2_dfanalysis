{
 "cells": [
  {
   "cell_type": "code",
   "execution_count": 32,
   "metadata": {},
   "outputs": [],
   "source": [
    "# My Standard Spark Session!\n",
    "\n",
    "# Python libraries:\n",
    "import os\n",
    "import sys\n",
    "import re\n",
    "from dateutil import parser\n",
    "# import datetime\n",
    "from datetime import datetime\n",
    "from datetime import date\n",
    "import builtins\n",
    "import json\n",
    "import functools\n",
    "import operator\n",
    "from itertools import product\n",
    "\n",
    "# Numpy & Pandas!\n",
    "import numpy as np\n",
    "import pandas as pd\n",
    "pd.options.display.float_format = '{:20,.2f}'.format\n",
    "pd.options.display.max_columns = None\n",
    "\n",
    "# Spark!\n",
    "from pyspark import SparkContext\n",
    "from pyspark.sql.functions import *\n",
    "from pyspark.sql.types import *\n",
    "from pyspark.sql.window import *\n",
    "from pyspark.sql import SparkSession, Row\n",
    "\n",
    "\n",
    "spark = SparkSession.builder.appName(\"myapp\").getOrCreate()\n",
    "\n",
    "#     spark = SparkSession.builder.master(\"yarn\")\\\n",
    "#     .config(\"spark.executor.instances\", \"32\")\\\n",
    "#     .config(\"spark.executor.cores\", \"4\")\\\n",
    "#     .config(\"spark.executor.memory\", \"4G\")\\\n",
    "#     .config(\"spark.driver.memory\", \"4G\")\\\n",
    "#     .config(\"spark.executor.memoryOverhead\",\"4G\")\\\n",
    "#     .config(\"spark.yarn.queue\",\"Medium\")\\\n",
    "#     .appName(\"myapp\")\\\n",
    "#     .getOrCreate()\n",
    "\n",
    "sc = spark.sparkContext\n",
    "spark.conf.set(\"spark.sql.sources.partitionColumnTypeInference.enabled\", \"false\")\n",
    "spark.conf.set(\"spark.debug.maxToStringFields\",\"true\")"
   ]
  },
  {
   "cell_type": "markdown",
   "metadata": {},
   "source": [
    "## DataFrameBuild Class:\n",
    "DFB = DataFrameBuild(ctx.spark)"
   ]
  },
  {
   "cell_type": "code",
   "execution_count": 12,
   "metadata": {},
   "outputs": [
    {
     "name": "stdout",
     "output_type": "stream",
     "text": [
      "<pyspark.sql.session.SparkSession object at 0x000001B66C6396D8>\n"
     ]
    }
   ],
   "source": [
    "# mylib:\n",
    "my_library = os.path.expanduser('~/.myconfigs')\n",
    "my_spark = os.path.expanduser('~/spark2_dfanalysis')\n",
    "sys.path.append(my_library)\n",
    "sys.path.append(my_spark)\n",
    "\n",
    "from shared.app_context import *\n",
    "\n",
    "ctx = ApplicationContext(\"Dev-Job\")\n",
    "print(ctx.spark)\n",
    "\n",
    "from builder.DataFrameBuild import *\n",
    "\n",
    "DFB = DataFrameBuild(ctx.spark)"
   ]
  },
  {
   "cell_type": "markdown",
   "metadata": {},
   "source": [
    "### Construct some arrays. Put them into a dataframe."
   ]
  },
  {
   "cell_type": "code",
   "execution_count": 13,
   "metadata": {},
   "outputs": [
    {
     "name": "stdout",
     "output_type": "stream",
     "text": [
      "12 ['kyfwpywr', 'kxawuujf', 'ktsjabfg', 'qmtilzdp', 'adfqsgim', 'ygcyuanc', 'zfdivbac', 'nowembld', 'hlainypj', 'bzwwupqv', 'gyrtndvw', 'zmxvfrny']\n",
      "12 [0 4 4 4 3 1 1 3 2 2 4 2]\n",
      "12 [10.03300854 10.0578753  10.05915789 10.05929665 10.0571665  10.08244016\n",
      " 10.02967528 10.03900109 10.01081468 10.09808571 10.03417946 10.00277596]\n"
     ]
    }
   ],
   "source": [
    "mystr = DFB.build_array(\"string\",num=12,width=8) \n",
    "myint = DFB.build_array(\"integer\",num=12,nrange=(0,4))    # inclusive on range\n",
    "mydoub = DFB.build_array(\"double\",num=12,nrange=(10,10.1))\n",
    "\n",
    "print(len(mystr),mystr)\n",
    "print(len(myint),myint)\n",
    "print(len(mydoub),mydoub)"
   ]
  },
  {
   "cell_type": "code",
   "execution_count": 22,
   "metadata": {},
   "outputs": [],
   "source": [
    "df1 = DFB.arrays_to_dataframe([mystr,myint,mydoub,],['strings','integers','doubles'])"
   ]
  },
  {
   "cell_type": "code",
   "execution_count": 23,
   "metadata": {},
   "outputs": [
    {
     "name": "stdout",
     "output_type": "stream",
     "text": [
      "+--------+--------+------------------+\n",
      "| strings|integers|           doubles|\n",
      "+--------+--------+------------------+\n",
      "|kyfwpywr|       0|10.033008538507271|\n",
      "|kxawuujf|       4|10.057875298946321|\n",
      "|ktsjabfg|       4| 10.05915788504964|\n",
      "|qmtilzdp|       4|10.059296654468106|\n",
      "|adfqsgim|       3|10.057166502376846|\n",
      "+--------+--------+------------------+\n",
      "only showing top 5 rows\n",
      "\n"
     ]
    }
   ],
   "source": [
    "df1.show(5)"
   ]
  },
  {
   "cell_type": "markdown",
   "metadata": {},
   "source": [
    "### Do it again. Put arrays or lists into a dataframe."
   ]
  },
  {
   "cell_type": "code",
   "execution_count": 15,
   "metadata": {
    "collapsed": true
   },
   "outputs": [],
   "source": [
    "num = 500\n",
    "df4 = DFB.arrays_to_dataframe(\n",
    "    [DFB.build_array(\"string\",num=num,width=8),\n",
    "     DFB.build_array(\"integer\",num=num,nrange=(1,4)),\n",
    "     DFB.build_array(\"integer\",num=num,nrange=(1,12)),\n",
    "     DFB.build_array(\"double\",num=num,nrange=(0.0,10000))],\n",
    "    ['passwords','quarter','month','price'])"
   ]
  },
  {
   "cell_type": "code",
   "execution_count": 16,
   "metadata": {},
   "outputs": [
    {
     "data": {
      "text/html": [
       "<div>\n",
       "<style scoped>\n",
       "    .dataframe tbody tr th:only-of-type {\n",
       "        vertical-align: middle;\n",
       "    }\n",
       "\n",
       "    .dataframe tbody tr th {\n",
       "        vertical-align: top;\n",
       "    }\n",
       "\n",
       "    .dataframe thead th {\n",
       "        text-align: right;\n",
       "    }\n",
       "</style>\n",
       "<table border=\"1\" class=\"dataframe\">\n",
       "  <thead>\n",
       "    <tr style=\"text-align: right;\">\n",
       "      <th></th>\n",
       "      <th>passwords</th>\n",
       "      <th>quarter</th>\n",
       "      <th>month</th>\n",
       "      <th>price</th>\n",
       "    </tr>\n",
       "  </thead>\n",
       "  <tbody>\n",
       "    <tr>\n",
       "      <th>0</th>\n",
       "      <td>pcvtkbwz</td>\n",
       "      <td>4</td>\n",
       "      <td>7</td>\n",
       "      <td>3,192.24</td>\n",
       "    </tr>\n",
       "    <tr>\n",
       "      <th>1</th>\n",
       "      <td>hhkjqeyj</td>\n",
       "      <td>3</td>\n",
       "      <td>9</td>\n",
       "      <td>9,046.05</td>\n",
       "    </tr>\n",
       "    <tr>\n",
       "      <th>2</th>\n",
       "      <td>bajzarmu</td>\n",
       "      <td>3</td>\n",
       "      <td>7</td>\n",
       "      <td>1,063.65</td>\n",
       "    </tr>\n",
       "    <tr>\n",
       "      <th>3</th>\n",
       "      <td>akmehpwx</td>\n",
       "      <td>3</td>\n",
       "      <td>12</td>\n",
       "      <td>6,813.92</td>\n",
       "    </tr>\n",
       "    <tr>\n",
       "      <th>4</th>\n",
       "      <td>cefspgkv</td>\n",
       "      <td>3</td>\n",
       "      <td>9</td>\n",
       "      <td>7,846.75</td>\n",
       "    </tr>\n",
       "    <tr>\n",
       "      <th>5</th>\n",
       "      <td>ywdtjqml</td>\n",
       "      <td>4</td>\n",
       "      <td>1</td>\n",
       "      <td>7,503.86</td>\n",
       "    </tr>\n",
       "    <tr>\n",
       "      <th>6</th>\n",
       "      <td>wolgbdtm</td>\n",
       "      <td>1</td>\n",
       "      <td>9</td>\n",
       "      <td>3,494.69</td>\n",
       "    </tr>\n",
       "    <tr>\n",
       "      <th>7</th>\n",
       "      <td>jguxnsco</td>\n",
       "      <td>2</td>\n",
       "      <td>12</td>\n",
       "      <td>9,564.74</td>\n",
       "    </tr>\n",
       "    <tr>\n",
       "      <th>8</th>\n",
       "      <td>woenzdqh</td>\n",
       "      <td>1</td>\n",
       "      <td>7</td>\n",
       "      <td>3,989.97</td>\n",
       "    </tr>\n",
       "    <tr>\n",
       "      <th>9</th>\n",
       "      <td>oerhdwhy</td>\n",
       "      <td>1</td>\n",
       "      <td>4</td>\n",
       "      <td>7,230.76</td>\n",
       "    </tr>\n",
       "  </tbody>\n",
       "</table>\n",
       "</div>"
      ],
      "text/plain": [
       "  passwords  quarter  month    price\n",
       "0  pcvtkbwz        4      7 3,192.24\n",
       "1  hhkjqeyj        3      9 9,046.05\n",
       "2  bajzarmu        3      7 1,063.65\n",
       "3  akmehpwx        3     12 6,813.92\n",
       "4  cefspgkv        3      9 7,846.75\n",
       "5  ywdtjqml        4      1 7,503.86\n",
       "6  wolgbdtm        1      9 3,494.69\n",
       "7  jguxnsco        2     12 9,564.74\n",
       "8  woenzdqh        1      7 3,989.97\n",
       "9  oerhdwhy        1      4 7,230.76"
      ]
     },
     "execution_count": 16,
     "metadata": {},
     "output_type": "execute_result"
    }
   ],
   "source": [
    "df4.limit(10).toPandas()"
   ]
  },
  {
   "cell_type": "markdown",
   "metadata": {},
   "source": [
    "### Manually use an index column in my dataframe."
   ]
  },
  {
   "cell_type": "code",
   "execution_count": 24,
   "metadata": {
    "collapsed": true
   },
   "outputs": [],
   "source": [
    "num = 5000\n",
    "df4 = DFB.arrays_to_dataframe(\n",
    "    [[int(x) for x in np.linspace(1,num,num)],\n",
    "     DFB.build_array(\"string\",num=num,width=8),\n",
    "     DFB.build_array(\"integer\",num=num,nrange=(1,4)),\n",
    "     DFB.build_array(\"integer\",num=num,nrange=(1,12)),\n",
    "     DFB.build_array(\"double\",num=num,nrange=(0.0,10000))],\n",
    "    ['index','passwords','quarter','month','price'])"
   ]
  },
  {
   "cell_type": "code",
   "execution_count": 25,
   "metadata": {},
   "outputs": [
    {
     "name": "stdout",
     "output_type": "stream",
     "text": [
      "+-----+---------+-------+-----+------------------+\n",
      "|index|passwords|quarter|month|             price|\n",
      "+-----+---------+-------+-----+------------------+\n",
      "|    1| jlpiswsg|      3|    3| 8964.198245068565|\n",
      "|    2| ejdrdeus|      3|    6| 4245.420764266281|\n",
      "|    3| tsetpsdf|      1|    2| 5728.924778062631|\n",
      "|    4| ycemmlsf|      3|   12|  9991.84568292378|\n",
      "|    5| xjcnmgja|      3|   10| 3297.053065202732|\n",
      "|    6| vxayjfka|      1|    1|  8711.36575782409|\n",
      "|    7| vmpqjfmv|      1|    2|1950.3502282619122|\n",
      "|    8| hkxhwyyn|      4|    8| 7298.712922583214|\n",
      "|    9| cemveshd|      1|    4| 6771.822248503308|\n",
      "|   10| nioqczha|      4|    5| 6649.509515929742|\n",
      "|   11| ggvznopg|      2|    7| 6740.049227920286|\n",
      "|   12| wgdmmvcs|      1|    6| 5995.662049202913|\n",
      "|   13| bwianeoc|      3|    2| 6592.478707689565|\n",
      "|   14| rgepvkmi|      4|    1| 7222.401984581723|\n",
      "|   15| sfkqsblv|      2|    7| 8119.525369568308|\n",
      "|   16| fmzcvckd|      1|    6| 8910.197525803118|\n",
      "|   17| ctgdppne|      2|    8| 8138.204021096649|\n",
      "|   18| ovlnejdf|      1|    7| 7007.207503435051|\n",
      "|   19| wnulxauk|      4|    3|4073.8689661748094|\n",
      "|   20| xslvzzap|      1|   12|  4779.09122094728|\n",
      "+-----+---------+-------+-----+------------------+\n",
      "only showing top 20 rows\n",
      "\n"
     ]
    }
   ],
   "source": [
    "df4.show()"
   ]
  },
  {
   "cell_type": "code",
   "execution_count": 26,
   "metadata": {},
   "outputs": [
    {
     "name": "stdout",
     "output_type": "stream",
     "text": [
      "+-----+---------+-------+-----+------------------+\n",
      "|index|passwords|quarter|month|             price|\n",
      "+-----+---------+-------+-----+------------------+\n",
      "|    1| jlpiswsg|      3|    3| 8964.198245068565|\n",
      "|    2| ejdrdeus|      3|    6| 4245.420764266281|\n",
      "|    3| tsetpsdf|      1|    2| 5728.924778062631|\n",
      "|    4| ycemmlsf|      3|   12|  9991.84568292378|\n",
      "|    5| xjcnmgja|      3|   10| 3297.053065202732|\n",
      "|    6| vxayjfka|      1|    1|  8711.36575782409|\n",
      "|    7| vmpqjfmv|      1|    2|1950.3502282619122|\n",
      "|    8| hkxhwyyn|      4|    8| 7298.712922583214|\n",
      "|    9| cemveshd|      1|    4| 6771.822248503308|\n",
      "|   10| nioqczha|      4|    5| 6649.509515929742|\n",
      "|   11| ggvznopg|      2|    7| 6740.049227920286|\n",
      "|   12| wgdmmvcs|      1|    6| 5995.662049202913|\n",
      "|   13| bwianeoc|      3|    2| 6592.478707689565|\n",
      "|   14| rgepvkmi|      4|    1| 7222.401984581723|\n",
      "|   15| sfkqsblv|      2|    7| 8119.525369568308|\n",
      "|   16| fmzcvckd|      1|    6| 8910.197525803118|\n",
      "|   17| ctgdppne|      2|    8| 8138.204021096649|\n",
      "|   18| ovlnejdf|      1|    7| 7007.207503435051|\n",
      "|   19| wnulxauk|      4|    3|4073.8689661748094|\n",
      "|   20| xslvzzap|      1|   12|  4779.09122094728|\n",
      "+-----+---------+-------+-----+------------------+\n",
      "only showing top 20 rows\n",
      "\n"
     ]
    }
   ],
   "source": [
    "df4.orderBy(\"index\").show()"
   ]
  },
  {
   "cell_type": "code",
   "execution_count": 27,
   "metadata": {},
   "outputs": [
    {
     "data": {
      "text/plain": [
       "5000"
      ]
     },
     "execution_count": 27,
     "metadata": {},
     "output_type": "execute_result"
    }
   ],
   "source": [
    "df4.select(\"index\").distinct().count()"
   ]
  },
  {
   "cell_type": "markdown",
   "metadata": {},
   "source": [
    "### Let's do a random car example and pretend we have used car prices."
   ]
  },
  {
   "cell_type": "code",
   "execution_count": 28,
   "metadata": {
    "collapsed": true
   },
   "outputs": [],
   "source": [
    "x = DataFrameBuild(ctx.spark)\n",
    "num = 5000\n",
    "lst_cars = [random.choice(['Honda','Toyota','Chevy','Ford','Tesla','Volkswagon','Hyundai','Jeep']) for x in range(num)]\n",
    "df4 = x.arrays_to_dataframe([[int(x) for x in np.linspace(1,num,num)],\n",
    "                             x.build_array(\"string\",num=num,width=8),\n",
    "                             x.build_array(\"integer\",num=num,nrange=(1,4)),\n",
    "                             x.build_array(\"integer\",num=num,nrange=(1,12)),\n",
    "                             x.build_array(\"double\",num=num,nrange=(0.0,50000)),\n",
    "                             lst_cars],\n",
    "                             ['index','passwords','quarter','month','price','cars'])"
   ]
  },
  {
   "cell_type": "code",
   "execution_count": 29,
   "metadata": {},
   "outputs": [
    {
     "name": "stdout",
     "output_type": "stream",
     "text": [
      "+-----+---------+-------+-----+------------------+----------+\n",
      "|index|passwords|quarter|month|             price|      cars|\n",
      "+-----+---------+-------+-----+------------------+----------+\n",
      "|    1| ndbiiihs|      2|    3|20838.777549931274|     Tesla|\n",
      "|    2| vcisnjet|      1|   12| 45341.68113124216|   Hyundai|\n",
      "|    3| wuavbpwe|      2|    1|26244.359751626762|    Toyota|\n",
      "|    4| atahdxzr|      2|    3| 45047.03759353193|     Tesla|\n",
      "|    5| lfuqndxv|      3|    9|  39836.4657254842|      Ford|\n",
      "|    6| ncbgwbpl|      2|    7|22669.262209909146|     Honda|\n",
      "|    7| olzvytpz|      4|   11| 172.6199441168641|    Toyota|\n",
      "|    8| iabtdpwz|      3|   12|15924.463977921738|      Jeep|\n",
      "|    9| apfhwmwd|      4|   11|24806.376448203722|Volkswagon|\n",
      "|   10| hvlgxpyn|      3|   12| 42010.34197572011|     Honda|\n",
      "|   11| xoyvmjuw|      2|    1|2535.9504418552447|     Chevy|\n",
      "|   12| toyoggpa|      2|    8| 23823.19595397488|      Jeep|\n",
      "|   13| dniyzhyt|      1|   10| 4711.464054547971|      Ford|\n",
      "|   14| efqbjcfs|      1|   10|14150.197100715444|     Chevy|\n",
      "|   15| ddauanix|      1|    4| 4219.824303935788|     Chevy|\n",
      "|   16| bhagpkvr|      3|   10| 18361.22785129593|   Hyundai|\n",
      "|   17| yvyzwmpt|      3|    2|39639.858683884384|    Toyota|\n",
      "|   18| mwfdfqpt|      2|    6| 42819.72528569542|     Tesla|\n",
      "|   19| ywlntnwi|      4|   12|16541.282016307385|Volkswagon|\n",
      "|   20| ityiiaie|      1|    3| 28243.27301096205|     Honda|\n",
      "+-----+---------+-------+-----+------------------+----------+\n",
      "only showing top 20 rows\n",
      "\n"
     ]
    }
   ],
   "source": [
    "df4.show(20)"
   ]
  },
  {
   "cell_type": "code",
   "execution_count": 30,
   "metadata": {},
   "outputs": [
    {
     "data": {
      "text/plain": [
       "5000"
      ]
     },
     "execution_count": 30,
     "metadata": {},
     "output_type": "execute_result"
    }
   ],
   "source": [
    "df4.count() "
   ]
  },
  {
   "cell_type": "markdown",
   "metadata": {},
   "source": [
    "### Create DataFrames"
   ]
  },
  {
   "cell_type": "markdown",
   "metadata": {},
   "source": [
    "#### with a list of list of strings, and list of string of length 1"
   ]
  },
  {
   "cell_type": "code",
   "execution_count": 31,
   "metadata": {},
   "outputs": [
    {
     "name": "stdout",
     "output_type": "stream",
     "text": [
      "12\n",
      "+--------------+\n",
      "|random_letters|\n",
      "+--------------+\n",
      "|      kyfwpywr|\n",
      "|      kxawuujf|\n",
      "|      ktsjabfg|\n",
      "|      qmtilzdp|\n",
      "|      adfqsgim|\n",
      "|      ygcyuanc|\n",
      "|      zfdivbac|\n",
      "|      nowembld|\n",
      "|      hlainypj|\n",
      "|      bzwwupqv|\n",
      "|      gyrtndvw|\n",
      "|      zmxvfrny|\n",
      "+--------------+\n",
      "\n"
     ]
    }
   ],
   "source": [
    "dfx = x.arrays_to_dataframe([mystr],['random_letters'])\n",
    "print(dfx.count())\n",
    "dfx.show()\n",
    "\n",
    "# [StructField(str,StringType,true)]\n",
    "# ['str']"
   ]
  },
  {
   "cell_type": "markdown",
   "metadata": {},
   "source": [
    "#### with a list of list of strings, and a string"
   ]
  },
  {
   "cell_type": "code",
   "execution_count": 87,
   "metadata": {},
   "outputs": [
    {
     "name": "stdout",
     "output_type": "stream",
     "text": [
      "Levels:\n",
      "list list\n",
      "[['qvfdlpks', 'vpyviyux', 'ypqyinsl', 'rigvlcog', 'qngoiobg', 'zurnglnj', 'hsuemdkh', 'vlfalaxs', 'hsmjolqj', 'uhvkberg', 'ladwcapa', 'qrbkjsql']]\n",
      "check:\n",
      "[['qvfdlpks', 'vpyviyux', 'ypqyinsl', 'rigvlcog', 'qngoiobg', 'zurnglnj', 'hsuemdkh', 'vlfalaxs', 'hsmjolqj', 'uhvkberg', 'ladwcapa', 'qrbkjsql']] 1\n",
      "['random_letters']\n",
      "12\n",
      "+--------------+\n",
      "|random_letters|\n",
      "+--------------+\n",
      "|      qvfdlpks|\n",
      "|      vpyviyux|\n",
      "|      ypqyinsl|\n",
      "|      rigvlcog|\n",
      "|      qngoiobg|\n",
      "|      zurnglnj|\n",
      "|      hsuemdkh|\n",
      "|      vlfalaxs|\n",
      "|      hsmjolqj|\n",
      "|      uhvkberg|\n",
      "|      ladwcapa|\n",
      "|      qrbkjsql|\n",
      "+--------------+\n",
      "\n"
     ]
    }
   ],
   "source": [
    "dfx = x.arrays_to_dataframe([mystr],'random_letters')\n",
    "print(dfx.count())\n",
    "dfx.show()\n",
    "\n",
    "# [StructField(str,StringType,true)]\n",
    "# ['str']"
   ]
  },
  {
   "cell_type": "markdown",
   "metadata": {},
   "source": [
    "#### with lists of length 2"
   ]
  },
  {
   "cell_type": "code",
   "execution_count": 89,
   "metadata": {},
   "outputs": [
    {
     "name": "stdout",
     "output_type": "stream",
     "text": [
      "[3 1 3 1 0 3 4 1 2 1 0 3]\n",
      "['qvfdlpks', 'vpyviyux', 'ypqyinsl', 'rigvlcog', 'qngoiobg', 'zurnglnj', 'hsuemdkh', 'vlfalaxs', 'hsmjolqj', 'uhvkberg', 'ladwcapa', 'qrbkjsql']\n",
      "Levels:\n",
      "list ndarray\n",
      "[array([3, 1, 3, 1, 0, 3, 4, 1, 2, 1, 0, 3]), ['qvfdlpks', 'vpyviyux', 'ypqyinsl', 'rigvlcog', 'qngoiobg', 'zurnglnj', 'hsuemdkh', 'vlfalaxs', 'hsmjolqj', 'uhvkberg', 'ladwcapa', 'qrbkjsql']]\n",
      "check:\n",
      "[array([3, 1, 3, 1, 0, 3, 4, 1, 2, 1, 0, 3]), ['qvfdlpks', 'vpyviyux', 'ypqyinsl', 'rigvlcog', 'qngoiobg', 'zurnglnj', 'hsuemdkh', 'vlfalaxs', 'hsmjolqj', 'uhvkberg', 'ladwcapa', 'qrbkjsql']] 2\n",
      "['random_ints', 'random_letters']\n",
      "12\n",
      "+-----------+--------------+\n",
      "|random_ints|random_letters|\n",
      "+-----------+--------------+\n",
      "|          3|      qvfdlpks|\n",
      "|          1|      vpyviyux|\n",
      "|          3|      ypqyinsl|\n",
      "|          1|      rigvlcog|\n",
      "|          0|      qngoiobg|\n",
      "|          3|      zurnglnj|\n",
      "|          4|      hsuemdkh|\n",
      "|          1|      vlfalaxs|\n",
      "|          2|      hsmjolqj|\n",
      "|          1|      uhvkberg|\n",
      "|          0|      ladwcapa|\n",
      "|          3|      qrbkjsql|\n",
      "+-----------+--------------+\n",
      "\n"
     ]
    }
   ],
   "source": [
    "print(myint)\n",
    "print(mystr)\n",
    "dfx = x.arrays_to_dataframe([myint,mystr],['random_ints','random_letters'])\n",
    "print(dfx.count())\n",
    "dfx.show()\n",
    "\n",
    "# [StructField(str,StringType,true)]\n",
    "# ['str']"
   ]
  },
  {
   "cell_type": "markdown",
   "metadata": {},
   "source": [
    "#### with a list and a string"
   ]
  },
  {
   "cell_type": "code",
   "execution_count": 90,
   "metadata": {},
   "outputs": [
    {
     "name": "stdout",
     "output_type": "stream",
     "text": [
      "Levels:\n",
      "list str\n",
      "[['qvfdlpks', 'vpyviyux', 'ypqyinsl', 'rigvlcog', 'qngoiobg', 'zurnglnj', 'hsuemdkh', 'vlfalaxs', 'hsmjolqj', 'uhvkberg', 'ladwcapa', 'qrbkjsql']]\n",
      "check:\n",
      "[['qvfdlpks', 'vpyviyux', 'ypqyinsl', 'rigvlcog', 'qngoiobg', 'zurnglnj', 'hsuemdkh', 'vlfalaxs', 'hsmjolqj', 'uhvkberg', 'ladwcapa', 'qrbkjsql']] 1\n",
      "['crazy_strings']\n",
      "12\n",
      "+-------------+\n",
      "|crazy_strings|\n",
      "+-------------+\n",
      "|     qvfdlpks|\n",
      "|     vpyviyux|\n",
      "|     ypqyinsl|\n",
      "|     rigvlcog|\n",
      "|     qngoiobg|\n",
      "|     zurnglnj|\n",
      "|     hsuemdkh|\n",
      "|     vlfalaxs|\n",
      "|     hsmjolqj|\n",
      "|     uhvkberg|\n",
      "|     ladwcapa|\n",
      "|     qrbkjsql|\n",
      "+-------------+\n",
      "\n"
     ]
    }
   ],
   "source": [
    "dfx = x.arrays_to_dataframe(mystr,'crazy_strings')\n",
    "print(dfx.count())\n",
    "dfx.show()\n",
    "\n",
    "# [StructField(str,StringType,true)]\n",
    "# ['str']"
   ]
  },
  {
   "cell_type": "markdown",
   "metadata": {},
   "source": [
    "#### with an array and a string"
   ]
  },
  {
   "cell_type": "code",
   "execution_count": 91,
   "metadata": {},
   "outputs": [
    {
     "name": "stdout",
     "output_type": "stream",
     "text": [
      "Levels:\n",
      "ndarray None\n",
      "[array([ 0.,  1.,  2.,  3.,  4.,  5.,  6.,  7.,  8.,  9., 10., 11., 12.,\n",
      "       13., 14., 15., 16., 17., 18., 19., 20., 21., 22., 23., 24., 25.,\n",
      "       26., 27., 28., 29., 30.])]\n",
      "check:\n",
      "[array([ 0.,  1.,  2.,  3.,  4.,  5.,  6.,  7.,  8.,  9., 10., 11., 12.,\n",
      "       13., 14., 15., 16., 17., 18., 19., 20., 21., 22., 23., 24., 25.,\n",
      "       26., 27., 28., 29., 30.])] 1\n",
      "['integers']\n",
      "31\n",
      "+--------+\n",
      "|integers|\n",
      "+--------+\n",
      "|     0.0|\n",
      "|     1.0|\n",
      "|     2.0|\n",
      "|     3.0|\n",
      "|     4.0|\n",
      "|     5.0|\n",
      "|     6.0|\n",
      "|     7.0|\n",
      "|     8.0|\n",
      "|     9.0|\n",
      "|    10.0|\n",
      "|    11.0|\n",
      "|    12.0|\n",
      "|    13.0|\n",
      "|    14.0|\n",
      "|    15.0|\n",
      "|    16.0|\n",
      "|    17.0|\n",
      "|    18.0|\n",
      "|    19.0|\n",
      "+--------+\n",
      "only showing top 20 rows\n",
      "\n"
     ]
    }
   ],
   "source": [
    "dfx = x.arrays_to_dataframe(np.linspace(0,30,31),'integers')\n",
    "print(dfx.count())\n",
    "dfx.show()\n",
    "\n",
    "# [StructField(str,StringType,true)]\n",
    "# ['str']"
   ]
  },
  {
   "cell_type": "markdown",
   "metadata": {},
   "source": [
    "#### with 1 array, no names"
   ]
  },
  {
   "cell_type": "code",
   "execution_count": 92,
   "metadata": {},
   "outputs": [
    {
     "name": "stdout",
     "output_type": "stream",
     "text": [
      "Levels:\n",
      "list str\n",
      "[['qvfdlpks', 'vpyviyux', 'ypqyinsl', 'rigvlcog', 'qngoiobg', 'zurnglnj', 'hsuemdkh', 'vlfalaxs', 'hsmjolqj', 'uhvkberg', 'ladwcapa', 'qrbkjsql']]\n",
      "check:\n",
      "[['qvfdlpks', 'vpyviyux', 'ypqyinsl', 'rigvlcog', 'qngoiobg', 'zurnglnj', 'hsuemdkh', 'vlfalaxs', 'hsmjolqj', 'uhvkberg', 'ladwcapa', 'qrbkjsql']] 1\n",
      "['str']\n",
      "12\n",
      "+--------+\n",
      "|     str|\n",
      "+--------+\n",
      "|qvfdlpks|\n",
      "|vpyviyux|\n",
      "|ypqyinsl|\n",
      "|rigvlcog|\n",
      "|qngoiobg|\n",
      "|zurnglnj|\n",
      "|hsuemdkh|\n",
      "|vlfalaxs|\n",
      "|hsmjolqj|\n",
      "|uhvkberg|\n",
      "|ladwcapa|\n",
      "|qrbkjsql|\n",
      "+--------+\n",
      "\n"
     ]
    }
   ],
   "source": [
    "dfx = x.arrays_to_dataframe(mystr)\n",
    "print(dfx.count())\n",
    "dfx.show()\n",
    "\n",
    "# [StructField(str,StringType,true)]\n",
    "# ['str']"
   ]
  },
  {
   "cell_type": "markdown",
   "metadata": {},
   "source": [
    "#### with 3 arrays, no names"
   ]
  },
  {
   "cell_type": "code",
   "execution_count": 93,
   "metadata": {},
   "outputs": [
    {
     "name": "stdout",
     "output_type": "stream",
     "text": [
      "Levels:\n",
      "list list\n",
      "[['qvfdlpks', 'vpyviyux', 'ypqyinsl', 'rigvlcog', 'qngoiobg', 'zurnglnj', 'hsuemdkh', 'vlfalaxs', 'hsmjolqj', 'uhvkberg', 'ladwcapa', 'qrbkjsql'], array([3, 1, 3, 1, 0, 3, 4, 1, 2, 1, 0, 3]), array([10.03311284, 10.03815753, 10.04005895, 10.09301454, 10.0645929 ,\n",
      "       10.04592987, 10.02605554, 10.0741538 , 10.00008683, 10.04075202,\n",
      "       10.03649303, 10.06943678])]\n",
      "check:\n",
      "[['qvfdlpks', 'vpyviyux', 'ypqyinsl', 'rigvlcog', 'qngoiobg', 'zurnglnj', 'hsuemdkh', 'vlfalaxs', 'hsmjolqj', 'uhvkberg', 'ladwcapa', 'qrbkjsql'], array([3, 1, 3, 1, 0, 3, 4, 1, 2, 1, 0, 3]), array([10.03311284, 10.03815753, 10.04005895, 10.09301454, 10.0645929 ,\n",
      "       10.04592987, 10.02605554, 10.0741538 , 10.00008683, 10.04075202,\n",
      "       10.03649303, 10.06943678])] 3\n",
      "['str', 'int32', 'float64']\n",
      "<bound method DataFrame.count of DataFrame[str: string, int32: bigint, float64: double]>\n",
      "+--------+-----+------------------+\n",
      "|     str|int32|           float64|\n",
      "+--------+-----+------------------+\n",
      "|qvfdlpks|    3|10.033112836163543|\n",
      "|vpyviyux|    1|10.038157530035122|\n",
      "|ypqyinsl|    3|10.040058954249197|\n",
      "|rigvlcog|    1|10.093014535823126|\n",
      "|qngoiobg|    0|10.064592903919403|\n",
      "|zurnglnj|    3|10.045929866844363|\n",
      "|hsuemdkh|    4|10.026055540306302|\n",
      "|vlfalaxs|    1| 10.07415380380531|\n",
      "|hsmjolqj|    2| 10.00008683187471|\n",
      "|uhvkberg|    1| 10.04075202015893|\n",
      "|ladwcapa|    0|10.036493033207824|\n",
      "|qrbkjsql|    3|10.069436779293813|\n",
      "+--------+-----+------------------+\n",
      "\n"
     ]
    }
   ],
   "source": [
    "dfx = x.arrays_to_dataframe([mystr,myint,mydoub])\n",
    "print(dfx.count)\n",
    "dfx.show()\n",
    "\n",
    "# [StructField(str,StringType,true)]\n",
    "# ['str']"
   ]
  },
  {
   "cell_type": "code",
   "execution_count": null,
   "metadata": {
    "collapsed": true
   },
   "outputs": [],
   "source": []
  }
 ],
 "metadata": {
  "kernelspec": {
   "display_name": "Python 3",
   "language": "python",
   "name": "python3"
  },
  "language_info": {
   "codemirror_mode": {
    "name": "ipython",
    "version": 3
   },
   "file_extension": ".py",
   "mimetype": "text/x-python",
   "name": "python",
   "nbconvert_exporter": "python",
   "pygments_lexer": "ipython3",
   "version": "3.6.1"
  }
 },
 "nbformat": 4,
 "nbformat_minor": 2
}
